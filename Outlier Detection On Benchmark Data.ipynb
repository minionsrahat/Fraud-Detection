{
 "cells": [
  {
   "cell_type": "code",
   "execution_count": 6,
   "metadata": {},
   "outputs": [],
   "source": [
    "from pandas import read_csv\n",
    "import pandas as pd\n",
    "import matplotlib.pyplot as plt\n",
    "from sklearn.model_selection import train_test_split\n",
    "df = read_csv('synthetic.csv')"
   ]
  },
  {
   "cell_type": "code",
   "execution_count": 2,
   "metadata": {},
   "outputs": [],
   "source": [
    "from sklearn.model_selection import train_test_split\n",
    "from sklearn.linear_model import LinearRegression\n",
    "from sklearn.metrics import mean_absolute_error\n",
    "from sklearn.ensemble import IsolationForest\n",
    "from pyod.models.knn import KNN \n",
    "import pyod\n",
    "from pyod.utils.data import evaluate_print\n",
    "from scipy import stats\n",
    "import matplotlib.pyplot as plt\n",
    "%matplotlib inline\n",
    "import matplotlib.font_manager\n",
    "import numpy as np\n",
    "from pyod.models.abod import ABOD\n",
    "from pyod.models.knn import KNN\n",
    "from pyod.utils.data import generate_data, get_outliers_inliers\n",
    "import seaborn as sns \n",
    "from sklearn.neighbors import NearestNeighbors"
   ]
  },
  {
   "cell_type": "code",
   "execution_count": 7,
   "metadata": {},
   "outputs": [
    {
     "data": {
      "text/plain": [
       "Index(['0', '1', '2', '3', '4', '5', '6', '7', '8', '9', 'outlier'], dtype='object')"
      ]
     },
     "execution_count": 7,
     "metadata": {},
     "output_type": "execute_result"
    }
   ],
   "source": [
    "df.columns"
   ]
  },
  {
   "cell_type": "code",
   "execution_count": 8,
   "metadata": {},
   "outputs": [],
   "source": [
    "df.outlier= pd.Categorical(df.outlier).codes"
   ]
  },
  {
   "cell_type": "code",
   "execution_count": 4,
   "metadata": {},
   "outputs": [
    {
     "name": "stdout",
     "output_type": "stream",
     "text": [
      "outlier\n",
      "no     900\n",
      "yes    100\n",
      "Name: 1, dtype: int64\n"
     ]
    }
   ],
   "source": [
    "print(df.groupby('outlier')['1'].count())"
   ]
  },
  {
   "cell_type": "code",
   "execution_count": 31,
   "metadata": {},
   "outputs": [],
   "source": [
    "data=df.loc[:, df.columns != 'outlier'].values"
   ]
  },
  {
   "cell_type": "code",
   "execution_count": 32,
   "metadata": {},
   "outputs": [
    {
     "data": {
      "text/plain": [
       "NearestNeighbors(algorithm='auto', leaf_size=30, metric='minkowski',\n",
       "                 metric_params=None, n_jobs=None, n_neighbors=3, p=2,\n",
       "                 radius=1.0)"
      ]
     },
     "execution_count": 32,
     "metadata": {},
     "output_type": "execute_result"
    }
   ],
   "source": [
    "# instantiate model\n",
    "nbrs = NearestNeighbors(n_neighbors = 3)\n",
    "# fit model\n",
    "nbrs.fit(data)"
   ]
  },
  {
   "cell_type": "code",
   "execution_count": 33,
   "metadata": {},
   "outputs": [
    {
     "data": {
      "text/plain": [
       "[<matplotlib.lines.Line2D at 0x1644a6c5dc8>]"
      ]
     },
     "execution_count": 33,
     "metadata": {},
     "output_type": "execute_result"
    },
    {
     "data": {
      "image/png": "[encoded data removed]",
      "text/plain": [
       "<Figure size 432x288 with 1 Axes>"
      ]
     },
     "metadata": {
      "needs_background": "light"
     },
     "output_type": "display_data"
    }
   ],
   "source": [
    "# distances and indexes of k-neaighbors from model outputs\n",
    "distances, indexes = nbrs.kneighbors(data)\n",
    "# plot mean of k-distances of each observation\n",
    "plt.plot(distances.mean(axis =1))"
   ]
  },
  {
   "cell_type": "code",
   "execution_count": 34,
   "metadata": {},
   "outputs": [
    {
     "data": {
      "text/html": [
       "<div>\n",
       "<style scoped>\n",
       "    .dataframe tbody tr th:only-of-type {\n",
       "        vertical-align: middle;\n",
       "    }\n",
       "\n",
       "    .dataframe tbody tr th {\n",
       "        vertical-align: top;\n",
       "    }\n",
       "\n",
       "    .dataframe thead th {\n",
       "        text-align: right;\n",
       "    }\n",
       "</style>\n",
       "<table border=\"1\" class=\"dataframe\">\n",
       "  <thead>\n",
       "    <tr style=\"text-align: right;\">\n",
       "      <th></th>\n",
       "      <th>0</th>\n",
       "      <th>1</th>\n",
       "      <th>2</th>\n",
       "      <th>3</th>\n",
       "      <th>4</th>\n",
       "      <th>5</th>\n",
       "      <th>6</th>\n",
       "      <th>7</th>\n",
       "      <th>8</th>\n",
       "      <th>9</th>\n",
       "      <th>outlier</th>\n",
       "    </tr>\n",
       "  </thead>\n",
       "  <tbody>\n",
       "    <tr>\n",
       "      <th>3</th>\n",
       "      <td>0.817491</td>\n",
       "      <td>0.647528</td>\n",
       "      <td>0.046214</td>\n",
       "      <td>0.487270</td>\n",
       "      <td>0.053872</td>\n",
       "      <td>0.817499</td>\n",
       "      <td>0.390589</td>\n",
       "      <td>0.394750</td>\n",
       "      <td>0.736854</td>\n",
       "      <td>0.442689</td>\n",
       "      <td>1</td>\n",
       "    </tr>\n",
       "    <tr>\n",
       "      <th>10</th>\n",
       "      <td>0.684177</td>\n",
       "      <td>0.997182</td>\n",
       "      <td>0.239274</td>\n",
       "      <td>0.794946</td>\n",
       "      <td>0.041115</td>\n",
       "      <td>0.304813</td>\n",
       "      <td>0.423234</td>\n",
       "      <td>0.023102</td>\n",
       "      <td>0.407379</td>\n",
       "      <td>0.787388</td>\n",
       "      <td>1</td>\n",
       "    </tr>\n",
       "    <tr>\n",
       "      <th>23</th>\n",
       "      <td>0.064359</td>\n",
       "      <td>0.129525</td>\n",
       "      <td>0.183766</td>\n",
       "      <td>0.860040</td>\n",
       "      <td>0.254505</td>\n",
       "      <td>0.440920</td>\n",
       "      <td>0.089274</td>\n",
       "      <td>0.941902</td>\n",
       "      <td>0.904978</td>\n",
       "      <td>0.215016</td>\n",
       "      <td>1</td>\n",
       "    </tr>\n",
       "    <tr>\n",
       "      <th>25</th>\n",
       "      <td>0.122225</td>\n",
       "      <td>0.246771</td>\n",
       "      <td>0.374035</td>\n",
       "      <td>0.387213</td>\n",
       "      <td>0.034881</td>\n",
       "      <td>0.102960</td>\n",
       "      <td>0.259756</td>\n",
       "      <td>0.020360</td>\n",
       "      <td>0.472351</td>\n",
       "      <td>0.195330</td>\n",
       "      <td>0</td>\n",
       "    </tr>\n",
       "    <tr>\n",
       "      <th>26</th>\n",
       "      <td>0.318134</td>\n",
       "      <td>0.984550</td>\n",
       "      <td>0.858386</td>\n",
       "      <td>0.872008</td>\n",
       "      <td>0.950152</td>\n",
       "      <td>0.298551</td>\n",
       "      <td>0.275030</td>\n",
       "      <td>0.207604</td>\n",
       "      <td>0.855490</td>\n",
       "      <td>0.191021</td>\n",
       "      <td>1</td>\n",
       "    </tr>\n",
       "    <tr>\n",
       "      <th>...</th>\n",
       "      <td>...</td>\n",
       "      <td>...</td>\n",
       "      <td>...</td>\n",
       "      <td>...</td>\n",
       "      <td>...</td>\n",
       "      <td>...</td>\n",
       "      <td>...</td>\n",
       "      <td>...</td>\n",
       "      <td>...</td>\n",
       "      <td>...</td>\n",
       "      <td>...</td>\n",
       "    </tr>\n",
       "    <tr>\n",
       "      <th>931</th>\n",
       "      <td>0.882822</td>\n",
       "      <td>0.517934</td>\n",
       "      <td>0.615919</td>\n",
       "      <td>0.543449</td>\n",
       "      <td>0.662865</td>\n",
       "      <td>0.755802</td>\n",
       "      <td>0.872439</td>\n",
       "      <td>0.006749</td>\n",
       "      <td>0.263889</td>\n",
       "      <td>0.135646</td>\n",
       "      <td>1</td>\n",
       "    </tr>\n",
       "    <tr>\n",
       "      <th>977</th>\n",
       "      <td>0.214550</td>\n",
       "      <td>0.567478</td>\n",
       "      <td>0.559684</td>\n",
       "      <td>0.535956</td>\n",
       "      <td>0.904327</td>\n",
       "      <td>0.005931</td>\n",
       "      <td>0.156257</td>\n",
       "      <td>0.515366</td>\n",
       "      <td>0.566043</td>\n",
       "      <td>0.498918</td>\n",
       "      <td>1</td>\n",
       "    </tr>\n",
       "    <tr>\n",
       "      <th>978</th>\n",
       "      <td>0.178173</td>\n",
       "      <td>0.304310</td>\n",
       "      <td>0.028749</td>\n",
       "      <td>0.800844</td>\n",
       "      <td>0.161153</td>\n",
       "      <td>0.874650</td>\n",
       "      <td>0.984053</td>\n",
       "      <td>0.205747</td>\n",
       "      <td>0.029727</td>\n",
       "      <td>0.842088</td>\n",
       "      <td>1</td>\n",
       "    </tr>\n",
       "    <tr>\n",
       "      <th>987</th>\n",
       "      <td>0.505864</td>\n",
       "      <td>0.231274</td>\n",
       "      <td>0.268309</td>\n",
       "      <td>0.795418</td>\n",
       "      <td>0.254847</td>\n",
       "      <td>0.515858</td>\n",
       "      <td>0.781295</td>\n",
       "      <td>0.111659</td>\n",
       "      <td>0.519996</td>\n",
       "      <td>0.723326</td>\n",
       "      <td>1</td>\n",
       "    </tr>\n",
       "    <tr>\n",
       "      <th>998</th>\n",
       "      <td>0.159682</td>\n",
       "      <td>0.825127</td>\n",
       "      <td>0.716445</td>\n",
       "      <td>0.069445</td>\n",
       "      <td>0.032148</td>\n",
       "      <td>0.654702</td>\n",
       "      <td>0.028203</td>\n",
       "      <td>0.886761</td>\n",
       "      <td>0.165482</td>\n",
       "      <td>0.116204</td>\n",
       "      <td>1</td>\n",
       "    </tr>\n",
       "  </tbody>\n",
       "</table>\n",
       "<p>97 rows × 11 columns</p>\n",
       "</div>"
      ],
      "text/plain": [
       "            0         1         2         3         4         5         6  \\\n",
       "3    0.817491  0.647528  0.046214  0.487270  0.053872  0.817499  0.390589   \n",
       "10   0.684177  0.997182  0.239274  0.794946  0.041115  0.304813  0.423234   \n",
       "23   0.064359  0.129525  0.183766  0.860040  0.254505  0.440920  0.089274   \n",
       "25   0.122225  0.246771  0.374035  0.387213  0.034881  0.102960  0.259756   \n",
       "26   0.318134  0.984550  0.858386  0.872008  0.950152  0.298551  0.275030   \n",
       "..        ...       ...       ...       ...       ...       ...       ...   \n",
       "931  0.882822  0.517934  0.615919  0.543449  0.662865  0.755802  0.872439   \n",
       "977  0.214550  0.567478  0.559684  0.535956  0.904327  0.005931  0.156257   \n",
       "978  0.178173  0.304310  0.028749  0.800844  0.161153  0.874650  0.984053   \n",
       "987  0.505864  0.231274  0.268309  0.795418  0.254847  0.515858  0.781295   \n",
       "998  0.159682  0.825127  0.716445  0.069445  0.032148  0.654702  0.028203   \n",
       "\n",
       "            7         8         9  outlier  \n",
       "3    0.394750  0.736854  0.442689        1  \n",
       "10   0.023102  0.407379  0.787388        1  \n",
       "23   0.941902  0.904978  0.215016        1  \n",
       "25   0.020360  0.472351  0.195330        0  \n",
       "26   0.207604  0.855490  0.191021        1  \n",
       "..        ...       ...       ...      ...  \n",
       "931  0.006749  0.263889  0.135646        1  \n",
       "977  0.515366  0.566043  0.498918        1  \n",
       "978  0.205747  0.029727  0.842088        1  \n",
       "987  0.111659  0.519996  0.723326        1  \n",
       "998  0.886761  0.165482  0.116204        1  \n",
       "\n",
       "[97 rows x 11 columns]"
      ]
     },
     "execution_count": 34,
     "metadata": {},
     "output_type": "execute_result"
    }
   ],
   "source": [
    "outlier_index = np.where(distances.mean(axis = 1) >0.3)\n",
    "outlier_values = df.iloc[outlier_index]\n",
    "outlier_values"
   ]
  },
  {
   "cell_type": "code",
   "execution_count": 35,
   "metadata": {},
   "outputs": [
    {
     "name": "stdout",
     "output_type": "stream",
     "text": [
      "outlier\n",
      "0    10\n",
      "1    87\n",
      "Name: 1, dtype: int64\n"
     ]
    }
   ],
   "source": [
    "print(outlier_values.groupby('outlier')['1'].count())"
   ]
  },
  {
   "cell_type": "code",
   "execution_count": 36,
   "metadata": {},
   "outputs": [],
   "source": [
    "plt.rcParams[\"figure.figsize\"] = (10,8)"
   ]
  },
  {
   "cell_type": "code",
   "execution_count": 37,
   "metadata": {},
   "outputs": [
    {
     "data": {
      "text/plain": [
       "Text(0.5, 1.0, 'Outlier Detection Using KNN ')"
      ]
     },
     "execution_count": 37,
     "metadata": {},
     "output_type": "execute_result"
    },
    {
     "data": {
      "image/png": "[encoded data removed]",
      "text/plain": [
       "<Figure size 720x576 with 1 Axes>"
      ]
     },
     "metadata": {
      "needs_background": "light"
     },
     "output_type": "display_data"
    }
   ],
   "source": [
    "# plot data\n",
    "plt.scatter(df[\"0\"], df[\"1\"], color = \"b\", s = 65)\n",
    "# plot outlier values\n",
    "plt.scatter(outlier_values[\"0\"], outlier_values[\"1\"], color = \"r\")\n",
    "plt.legend( [\"True Value\", \"Outliers\"])\n",
    "plt.title(\"Outlier Detection Using KNN \")"
   ]
  },
  {
   "cell_type": "code",
   "execution_count": 38,
   "metadata": {},
   "outputs": [
    {
     "name": "stdout",
     "output_type": "stream",
     "text": [
      "[[0.21560572 1.79387548 0.1647912  ... 0.96277369 0.45712651 0.20224592]\n",
      " [0.54760765 1.80976906 0.73952422 ... 1.60244742 0.75713112 0.31218876]\n",
      " [0.26950224 0.75604504 0.36315805 ... 0.58677041 1.50228457 1.33870061]\n",
      " ...\n",
      " [0.80930041 0.1333541  0.85090891 ... 0.39883721 0.51874498 0.90290406]\n",
      " [1.28057518 1.33010335 0.80852009 ... 1.95083922 1.29377351 1.79398205]\n",
      " [0.74848791 0.1030849  0.26693322 ... 1.35614192 0.55348436 0.28388443]]\n"
     ]
    }
   ],
   "source": [
    "from scipy import stats\n",
    "import numpy as np\n",
    "z = np.abs(stats.zscore(df.loc[:, df.columns != 'outlier']))\n",
    "print(z)"
   ]
  },
  {
   "cell_type": "code",
   "execution_count": 39,
   "metadata": {},
   "outputs": [
    {
     "name": "stdout",
     "output_type": "stream",
     "text": [
      "(array([ 10,  23,  39,  65,  72,  92, 117, 120, 140, 141, 152, 152, 157,\n",
      "       192, 282, 289, 312, 316, 339, 345, 346, 384, 408, 436, 436, 440,\n",
      "       446, 455, 556, 586, 596, 602, 623, 633, 660, 679, 687, 711, 736,\n",
      "       736, 746, 806, 808, 811, 811, 815, 815, 825, 831, 836, 844, 859,\n",
      "       875, 903, 911, 931, 934, 941, 946, 964], dtype=int64), array([1, 7, 7, 9, 9, 7, 9, 7, 9, 8, 8, 9, 7, 7, 8, 9, 7, 9, 8, 9, 9, 9,\n",
      "       9, 8, 9, 9, 7, 9, 9, 7, 9, 7, 7, 9, 7, 7, 1, 7, 7, 9, 7, 7, 7, 8,\n",
      "       9, 7, 9, 9, 9, 8, 9, 9, 1, 8, 9, 7, 9, 7, 9, 9], dtype=int64))\n"
     ]
    }
   ],
   "source": [
    "threshold = 2\n",
    "print(np.where(z > 2))"
   ]
  },
  {
   "cell_type": "code",
   "execution_count": 40,
   "metadata": {},
   "outputs": [],
   "source": [
    "outlier_values_Z = df.iloc[(z > 2)]"
   ]
  },
  {
   "cell_type": "code",
   "execution_count": 41,
   "metadata": {},
   "outputs": [
    {
     "name": "stdout",
     "output_type": "stream",
     "text": [
      "outlier\n",
      "0    27\n",
      "1    33\n",
      "Name: 1, dtype: int64\n"
     ]
    }
   ],
   "source": [
    "print(outlier_values_Z.groupby('outlier')['1'].count())"
   ]
  },
  {
   "cell_type": "code",
   "execution_count": 16,
   "metadata": {},
   "outputs": [
    {
     "data": {
      "text/plain": [
       "Text(0.5, 1.0, 'Outlier Detection Using Z SCORE')"
      ]
     },
     "execution_count": 16,
     "metadata": {},
     "output_type": "execute_result"
    },
    {
     "data": {
      "image/png": "[encoded data removed]",
      "text/plain": [
       "<Figure size 720x576 with 1 Axes>"
      ]
     },
     "metadata": {
      "needs_background": "light"
     },
     "output_type": "display_data"
    }
   ],
   "source": [
    "# plot data\n",
    "plt.scatter(df[\"0\"], df[\"1\"], color = \"b\", s = 65)\n",
    "# plot outlier values\n",
    "plt.scatter(outlier_values_Z[\"0\"], outlier_values_Z[\"1\"], color = \"r\")\n",
    "plt.legend( [\"True Value\", \"Outliers\"])\n",
    "plt.title(\"Outlier Detection Using Z SCORE\")"
   ]
  },
  {
   "cell_type": "code",
   "execution_count": 42,
   "metadata": {},
   "outputs": [],
   "source": [
    "from sklearn.ensemble import IsolationForest\n",
    "iso = IsolationForest(contamination=0.05)\n",
    "yhat = iso.fit_predict(data)"
   ]
  },
  {
   "cell_type": "code",
   "execution_count": 43,
   "metadata": {},
   "outputs": [],
   "source": [
    "mask = yhat != -1\n",
    "df_filterd_if= pd.DataFrame(data[mask, :])\n"
   ]
  },
  {
   "cell_type": "code",
   "execution_count": 44,
   "metadata": {},
   "outputs": [],
   "source": [
    "data2=df.values"
   ]
  },
  {
   "cell_type": "code",
   "execution_count": 45,
   "metadata": {},
   "outputs": [],
   "source": [
    "mask = yhat == -1\n",
    "outlier_values_if=pd.DataFrame(data2[mask, :])"
   ]
  },
  {
   "cell_type": "code",
   "execution_count": 46,
   "metadata": {},
   "outputs": [],
   "source": [
    "outlier_values_if.columns=['0','1','2','3','4','5','6','7','8','9','outlier']"
   ]
  },
  {
   "cell_type": "code",
   "execution_count": 47,
   "metadata": {},
   "outputs": [
    {
     "name": "stdout",
     "output_type": "stream",
     "text": [
      "outlier\n",
      "0.0     9\n",
      "1.0    41\n",
      "Name: 1, dtype: int64\n"
     ]
    }
   ],
   "source": [
    "print(outlier_values_if.groupby('outlier')['1'].count())"
   ]
  },
  {
   "cell_type": "code",
   "execution_count": 48,
   "metadata": {},
   "outputs": [
    {
     "data": {
      "text/plain": [
       "Text(0.5, 1.0, 'Outlier Detection Using ISOLATION FOREST')"
      ]
     },
     "execution_count": 48,
     "metadata": {},
     "output_type": "execute_result"
    },
    {
     "data": {
      "image/png": "[encoded data removed]",
      "text/plain": [
       "<Figure size 720x576 with 1 Axes>"
      ]
     },
     "metadata": {
      "needs_background": "light"
     },
     "output_type": "display_data"
    }
   ],
   "source": [
    "# plot data\n",
    "plt.scatter(df[\"0\"], df[\"1\"], color = \"b\", s = 65)\n",
    "# plot outlier values\n",
    "plt.scatter(outlier_values_if[\"0\"], outlier_values_if[\"1\"], color = \"r\")\n",
    "plt.legend( [\"True Value\", \"Outliers\"])\n",
    "plt.title(\"Outlier Detection Using ISOLATION FOREST\")"
   ]
  },
  {
   "cell_type": "code",
   "execution_count": 49,
   "metadata": {},
   "outputs": [],
   "source": [
    "from xgboost import XGBClassifier\n",
    "from sklearn.model_selection import train_test_split"
   ]
  },
  {
   "cell_type": "code",
   "execution_count": 50,
   "metadata": {},
   "outputs": [],
   "source": [
    "df_knn_filtered=df.drop(df.index[outlier_index])"
   ]
  },
  {
   "cell_type": "code",
   "execution_count": 71,
   "metadata": {},
   "outputs": [],
   "source": [
    "X = df_knn_filtered.iloc[:,0:10]\n",
    "Y = df_knn_filtered.iloc[:,10]"
   ]
  },
  {
   "cell_type": "code",
   "execution_count": 72,
   "metadata": {},
   "outputs": [],
   "source": [
    "seed = 7\n",
    "test_size = 0.33\n",
    "X_train, X_test, y_train, y_test = train_test_split(X, Y, test_size=test_size, random_state=seed)"
   ]
  },
  {
   "cell_type": "code",
   "execution_count": 54,
   "metadata": {},
   "outputs": [],
   "source": [
    "df_true=df_knn_filtered[df_knn_filtered.outlier==0]\n",
    "df_outlier=df_knn_filtered[df_knn_filtered.outlier==1]"
   ]
  },
  {
   "cell_type": "code",
   "execution_count": 56,
   "metadata": {},
   "outputs": [],
   "source": [
    "df_true_train,df_true_test=train_test_split(df_true,test_size=0.2,shuffle = False, stratify = None)\n",
    "df_outlier_train,df_outlier_test=train_test_split(df_outlier,test_size=0.2,shuffle = False, stratify = None)"
   ]
  },
  {
   "cell_type": "code",
   "execution_count": 62,
   "metadata": {},
   "outputs": [],
   "source": [
    "train=df_true_train.append(df_outlier_train).sample(frac=1).reset_index(drop=True)\n",
    "test=df_true_test.append(df_outlier_test).sample(frac=1).reset_index(drop=True)"
   ]
  },
  {
   "cell_type": "code",
   "execution_count": 66,
   "metadata": {},
   "outputs": [],
   "source": [
    "Xtrain = train.iloc[:,0:10]\n",
    "Ytrain = train.iloc[:,10]"
   ]
  },
  {
   "cell_type": "code",
   "execution_count": 70,
   "metadata": {},
   "outputs": [],
   "source": [
    "Xtest = test.iloc[:,0:10]\n",
    "Ytest = test.iloc[:,10]"
   ]
  },
  {
   "cell_type": "code",
   "execution_count": 77,
   "metadata": {},
   "outputs": [],
   "source": [
    "from sklearn.preprocessing import MinMaxScaler\n",
    "scaler = MinMaxScaler()\n",
    "scaler.fit(Xtrain)\n",
    "Xtrain_scl=scaler.transform(Xtrain)"
   ]
  },
  {
   "cell_type": "code",
   "execution_count": 78,
   "metadata": {},
   "outputs": [],
   "source": [
    "Xtest_scl=scaler.transform(Xtest)"
   ]
  },
  {
   "cell_type": "code",
   "execution_count": 82,
   "metadata": {},
   "outputs": [
    {
     "name": "stdout",
     "output_type": "stream",
     "text": [
      "[07:16:04] WARNING: C:/Users/Administrator/workspace/xgboost-win64_release_1.3.0/src/learner.cc:1061: Starting in XGBoost 1.3.0, the default evaluation metric used with the objective 'binary:logistic' was changed from 'error' to 'logloss'. Explicitly set eval_metric if you'd like to restore the old behavior.\n"
     ]
    },
    {
     "name": "stderr",
     "output_type": "stream",
     "text": [
      "C:\\ProgramData\\Anaconda3\\lib\\site-packages\\xgboost\\sklearn.py:888: UserWarning: The use of label encoder in XGBClassifier is deprecated and will be removed in a future release. To remove this warning, do the following: 1) Pass option use_label_encoder=False when constructing XGBClassifier object; and 2) Encode your labels (y) as integers starting with 0, i.e. 0, 1, 2, ..., [num_class - 1].\n",
      "  warnings.warn(label_encoder_deprecation_msg, UserWarning)\n"
     ]
    },
    {
     "data": {
      "text/plain": [
       "XGBClassifier(base_score=0.5, booster='gbtree', colsample_bylevel=1,\n",
       "              colsample_bynode=1, colsample_bytree=1, gamma=0, gpu_id=-1,\n",
       "              importance_type='gain', interaction_constraints='',\n",
       "              learning_rate=0.300000012, max_delta_step=0, max_depth=6,\n",
       "              min_child_weight=1, missing=nan, monotone_constraints='()',\n",
       "              n_estimators=100, n_jobs=4, num_parallel_tree=1,\n",
       "              objective='binary:logistic', random_state=0, reg_alpha=0,\n",
       "              reg_lambda=1, scale_pos_weight=1, subsample=1,\n",
       "              tree_method='exact', use_label_encoder=True,\n",
       "              validate_parameters=1, verbosity=None)"
      ]
     },
     "execution_count": 82,
     "metadata": {},
     "output_type": "execute_result"
    }
   ],
   "source": [
    "\n",
    "model = XGBClassifier()\n",
    "model.fit(Xtrain_scl, Ytrain)\n"
   ]
  },
  {
   "cell_type": "code",
   "execution_count": 83,
   "metadata": {},
   "outputs": [],
   "source": [
    "y_pred = model.predict(Xtest_scl)"
   ]
  },
  {
   "cell_type": "code",
   "execution_count": 84,
   "metadata": {},
   "outputs": [
    {
     "data": {
      "text/plain": [
       "array([0, 0, 0, 0, 0, 0, 0, 0, 0, 0, 0, 0, 0, 0, 0, 0, 0, 0, 0, 0, 0, 0,\n",
       "       0, 0, 0, 0, 0, 0, 0, 0, 0, 0, 0, 0, 0, 0, 0, 0, 0, 0, 0, 0, 0, 0,\n",
       "       0, 0, 0, 0, 0, 0, 0, 0, 0, 0, 0, 0, 0, 0, 0, 0, 0, 0, 0, 0, 0, 0,\n",
       "       0, 0, 0, 0, 0, 0, 0, 0, 0, 0, 0, 0, 0, 0, 0, 0, 0, 0, 0, 0, 0, 0,\n",
       "       0, 0, 0, 0, 0, 0, 0, 0, 0, 0, 0, 0, 0, 0, 0, 0, 0, 0, 0, 0, 0, 0,\n",
       "       0, 0, 0, 0, 0, 0, 0, 0, 0, 0, 0, 0, 0, 0, 0, 0, 0, 0, 0, 0, 0, 0,\n",
       "       0, 0, 0, 0, 0, 0, 0, 0, 0, 0, 0, 0, 0, 0, 0, 0, 0, 0, 0, 0, 0, 0,\n",
       "       0, 0, 0, 0, 0, 0, 0, 0, 0, 0, 0, 0, 0, 0, 0, 0, 0, 0, 0, 0, 0, 0,\n",
       "       0, 0, 0, 0, 0], dtype=int8)"
      ]
     },
     "execution_count": 84,
     "metadata": {},
     "output_type": "execute_result"
    }
   ],
   "source": [
    "y_pred"
   ]
  },
  {
   "cell_type": "code",
   "execution_count": null,
   "metadata": {},
   "outputs": [],
   "source": []
  },
  {
   "cell_type": "code",
   "execution_count": 60,
   "metadata": {},
   "outputs": [],
   "source": [
    "y_test=pd.DataFrame(y_pred)\n",
    "# print(y_test.groupby('outlier')['1'].count())"
   ]
  },
  {
   "cell_type": "code",
   "execution_count": 62,
   "metadata": {},
   "outputs": [
    {
     "data": {
      "text/plain": [
       "37"
      ]
     },
     "execution_count": 62,
     "metadata": {},
     "output_type": "execute_result"
    }
   ],
   "source": [
    "len(y_test[y_test['outlier']=='yes'])"
   ]
  },
  {
   "cell_type": "code",
   "execution_count": 63,
   "metadata": {},
   "outputs": [],
   "source": [
    "pred=pd.DataFrame()"
   ]
  },
  {
   "cell_type": "code",
   "execution_count": 67,
   "metadata": {},
   "outputs": [],
   "source": [
    "pred['true']=y_test['outlier']\n",
    "pred['predicted']=np.array(y_pred)"
   ]
  },
  {
   "cell_type": "code",
   "execution_count": 86,
   "metadata": {},
   "outputs": [],
   "source": [
    "df_2nd_level=df_knn_filtered"
   ]
  },
  {
   "cell_type": "code",
   "execution_count": 88,
   "metadata": {},
   "outputs": [],
   "source": [
    "df_2nd_level.outlier= pd.Categorical(df_2nd_level.outlier).codes"
   ]
  },
  {
   "cell_type": "code",
   "execution_count": 91,
   "metadata": {},
   "outputs": [],
   "source": [
    "X = df_2nd_level.iloc[:,0:10]\n",
    "Y = df_2nd_level.iloc[:,10]\n",
    "seed = 7\n",
    "test_size = 0.33\n",
    "X_train, X_test, y_train, y_test = train_test_split(X, Y, test_size=test_size, random_state=seed)"
   ]
  },
  {
   "cell_type": "code",
   "execution_count": 92,
   "metadata": {},
   "outputs": [],
   "source": [
    "dtrain = xgb.DMatrix(X_train, label=y_train)\n",
    "dtest = xgb.DMatrix(X_test, label=y_test)"
   ]
  },
  {
   "cell_type": "code",
   "execution_count": 93,
   "metadata": {},
   "outputs": [],
   "source": [
    "param = {\n",
    "    'max_depth': 3,  # the maximum depth of each tree\n",
    "    'eta': 0.3,  # the training step for each iteration\n",
    "    'silent': 1,  # logging mode - quiet\n",
    "    'objective': 'multi:softprob',  # error evaluation for multiclass training\n",
    "    'num_class': 3}  # the number of classes that exist in this datset\n",
    "num_round = 20  # the number of training iterations"
   ]
  },
  {
   "cell_type": "code",
   "execution_count": 94,
   "metadata": {},
   "outputs": [
    {
     "name": "stdout",
     "output_type": "stream",
     "text": [
      "[06:52:59] WARNING: C:/Users/Administrator/workspace/xgboost-win64_release_1.3.0/src/learner.cc:541: \n",
      "Parameters: { silent } might not be used.\n",
      "\n",
      "  This may not be accurate due to some parameters are only used in language bindings but\n",
      "  passed down to XGBoost core.  Or some parameters are not used but slip through this\n",
      "  verification. Please open an issue if you find above cases.\n",
      "\n",
      "\n",
      "[06:52:59] WARNING: C:/Users/Administrator/workspace/xgboost-win64_release_1.3.0/src/learner.cc:1061: Starting in XGBoost 1.3.0, the default evaluation metric used with the objective 'multi:softprob' was changed from 'merror' to 'mlogloss'. Explicitly set eval_metric if you'd like to restore the old behavior.\n"
     ]
    }
   ],
   "source": [
    "bst = xgb.train(param, dtrain, num_round)\n",
    "preds = bst.predict(dtest)"
   ]
  },
  {
   "cell_type": "code",
   "execution_count": 95,
   "metadata": {},
   "outputs": [
    {
     "data": {
      "text/plain": [
       "array([[0.9957296 , 0.00246543, 0.0018049 ],\n",
       "       [0.995635  , 0.00299323, 0.00137177],\n",
       "       [0.9959966 , 0.00263119, 0.00137227],\n",
       "       [0.9964504 , 0.00217669, 0.00137289],\n",
       "       [0.99692446, 0.00164075, 0.00143475],\n",
       "       [0.9939129 , 0.00396442, 0.00212263],\n",
       "       [0.9940211 , 0.00366483, 0.00231407],\n",
       "       [0.9966928 , 0.00187286, 0.00143442],\n",
       "       [0.99395615, 0.00401187, 0.00203201],\n",
       "       [0.931226  , 0.05926319, 0.00951076],\n",
       "       [0.9964914 , 0.00207453, 0.00143413],\n",
       "       [0.9970945 , 0.0015317 , 0.00137378],\n",
       "       [0.99648786, 0.00193375, 0.00157841],\n",
       "       [0.9964504 , 0.00217669, 0.00137289],\n",
       "       [0.9937266 , 0.00449375, 0.00177963],\n",
       "       [0.99669003, 0.00193671, 0.00137322],\n",
       "       [0.99539423, 0.00282315, 0.00178261],\n",
       "       [0.9904981 , 0.00645043, 0.00305141],\n",
       "       [0.99539423, 0.00282315, 0.00178261],\n",
       "       [0.99539423, 0.00282315, 0.00178261],\n",
       "       [0.984288  , 0.01184673, 0.00386527],\n",
       "       [0.99539423, 0.00282315, 0.00178261],\n",
       "       [0.9964504 , 0.00217669, 0.00137289],\n",
       "       [0.9964715 , 0.00209441, 0.0014341 ],\n",
       "       [0.99607396, 0.00255367, 0.00137237],\n",
       "       [0.99286836, 0.00479334, 0.00233825],\n",
       "       [0.99066204, 0.00648756, 0.00285044],\n",
       "       [0.9771648 , 0.01968871, 0.00314646],\n",
       "       [0.9589861 , 0.03465002, 0.00636388],\n",
       "       [0.9957456 , 0.0023691 , 0.00188536],\n",
       "       [0.9970945 , 0.0015317 , 0.00137378],\n",
       "       [0.9933293 , 0.00481259, 0.00185818],\n",
       "       [0.9957296 , 0.00246543, 0.0018049 ],\n",
       "       [0.9929563 , 0.00526549, 0.00177825],\n",
       "       [0.99669003, 0.00193671, 0.00137322],\n",
       "       [0.9964914 , 0.00207453, 0.00143413],\n",
       "       [0.9964715 , 0.00209441, 0.0014341 ],\n",
       "       [0.99539423, 0.00282315, 0.00178261],\n",
       "       [0.99607396, 0.00255367, 0.00137237],\n",
       "       [0.9957487 , 0.0028183 , 0.00143306],\n",
       "       [0.99539423, 0.00282315, 0.00178261],\n",
       "       [0.9962347 , 0.00233156, 0.00143376],\n",
       "       [0.9948879 , 0.00316504, 0.00194715],\n",
       "       [0.99628913, 0.00227701, 0.00143384],\n",
       "       [0.9958616 , 0.00240127, 0.0017372 ],\n",
       "       [0.99669003, 0.00193671, 0.00137322],\n",
       "       [0.9964914 , 0.00207453, 0.00143413],\n",
       "       [0.98905677, 0.00849323, 0.00244994],\n",
       "       [0.99607396, 0.00255367, 0.00137237],\n",
       "       [0.97919846, 0.01644304, 0.00435847],\n",
       "       [0.99539423, 0.00282315, 0.00178261],\n",
       "       [0.9912787 , 0.00626579, 0.00245545],\n",
       "       [0.9964349 , 0.00219215, 0.00137287],\n",
       "       [0.99109685, 0.00605149, 0.00285169],\n",
       "       [0.99669003, 0.00193671, 0.00137322],\n",
       "       [0.9912787 , 0.00626579, 0.00245545],\n",
       "       [0.9943877 , 0.00383148, 0.00178081],\n",
       "       [0.992219  , 0.00534385, 0.00243718],\n",
       "       [0.91296715, 0.07833065, 0.0087022 ],\n",
       "       [0.9964914 , 0.00207453, 0.00143413],\n",
       "       [0.99635977, 0.00226747, 0.00137277],\n",
       "       [0.9908511 , 0.00638857, 0.00276026],\n",
       "       [0.9932643 , 0.00459475, 0.00214088],\n",
       "       [0.98905677, 0.00849323, 0.00244994],\n",
       "       [0.9964504 , 0.00217669, 0.00137289],\n",
       "       [0.99097276, 0.0061759 , 0.00285134],\n",
       "       [0.99530596, 0.00302886, 0.00166519],\n",
       "       [0.99607396, 0.00255367, 0.00137237],\n",
       "       [0.99430805, 0.00374591, 0.00194602],\n",
       "       [0.99558663, 0.00267658, 0.00173672],\n",
       "       [0.99607605, 0.00255153, 0.00137238],\n",
       "       [0.9964504 , 0.00217669, 0.00137289],\n",
       "       [0.9876353 , 0.00952295, 0.00284173],\n",
       "       [0.9959829 , 0.00221179, 0.00180536],\n",
       "       [0.98679173, 0.01065497, 0.00255325],\n",
       "       [0.98107564, 0.01509339, 0.00383098],\n",
       "       [0.9957456 , 0.0023691 , 0.00188536],\n",
       "       [0.99669003, 0.00193671, 0.00137322],\n",
       "       [0.995635  , 0.00299323, 0.00137177],\n",
       "       [0.99543625, 0.00255023, 0.00201356],\n",
       "       [0.9940211 , 0.00366483, 0.00231407],\n",
       "       [0.99669003, 0.00193671, 0.00137322],\n",
       "       [0.9934238 , 0.00445455, 0.00212158],\n",
       "       [0.995017  , 0.00324412, 0.00173889],\n",
       "       [0.98905677, 0.00849323, 0.00244994],\n",
       "       [0.99539423, 0.00282315, 0.00178261],\n",
       "       [0.99669003, 0.00193671, 0.00137322],\n",
       "       [0.9943877 , 0.00383148, 0.00178081],\n",
       "       [0.9558139 , 0.0376617 , 0.00652443],\n",
       "       [0.99037397, 0.00632291, 0.00330318],\n",
       "       [0.9929563 , 0.00526549, 0.00177825],\n",
       "       [0.99539423, 0.00282315, 0.00178261],\n",
       "       [0.9970945 , 0.0015317 , 0.00137378],\n",
       "       [0.99669003, 0.00193671, 0.00137322],\n",
       "       [0.99175984, 0.0053866 , 0.0028536 ],\n",
       "       [0.99539423, 0.00282315, 0.00178261],\n",
       "       [0.99539423, 0.00282315, 0.00178261],\n",
       "       [0.9927326 , 0.00494492, 0.00232249],\n",
       "       [0.9964914 , 0.00207453, 0.00143413],\n",
       "       [0.99200237, 0.00544181, 0.00255587],\n",
       "       [0.9883498 , 0.00909297, 0.00255729],\n",
       "       [0.9964914 , 0.00207453, 0.00143413],\n",
       "       [0.9957296 , 0.00246543, 0.0018049 ],\n",
       "       [0.9846756 , 0.01183399, 0.00349036],\n",
       "       [0.99669003, 0.00193671, 0.00137322],\n",
       "       [0.98760045, 0.00995323, 0.00244634],\n",
       "       [0.99692446, 0.00164075, 0.00143475],\n",
       "       [0.9829989 , 0.01361621, 0.00338493],\n",
       "       [0.99607396, 0.00255367, 0.00137237],\n",
       "       [0.99669003, 0.00193671, 0.00137322],\n",
       "       [0.99066204, 0.00648756, 0.00285044],\n",
       "       [0.9962011 , 0.0024263 , 0.00137255],\n",
       "       [0.99539423, 0.00282315, 0.00178261],\n",
       "       [0.9970945 , 0.0015317 , 0.00137378],\n",
       "       [0.9881925 , 0.0083647 , 0.00344278],\n",
       "       [0.9914886 , 0.00565865, 0.00285282],\n",
       "       [0.99691963, 0.00170688, 0.00137354],\n",
       "       [0.99539423, 0.00282315, 0.00178261],\n",
       "       [0.9953615 , 0.003206  , 0.0014325 ],\n",
       "       [0.9494215 , 0.04333524, 0.00724331],\n",
       "       [0.9951147 , 0.00302382, 0.00186152],\n",
       "       [0.99648786, 0.00193375, 0.00157841],\n",
       "       [0.9970945 , 0.0015317 , 0.00137378],\n",
       "       [0.99669003, 0.00193671, 0.00137322],\n",
       "       [0.99617577, 0.00239054, 0.00143367],\n",
       "       [0.9957306 , 0.00246456, 0.0018049 ],\n",
       "       [0.9954485 , 0.0027471 , 0.00180439],\n",
       "       [0.9957296 , 0.00246543, 0.0018049 ],\n",
       "       [0.9931252 , 0.00429451, 0.00258031],\n",
       "       [0.99669003, 0.00193671, 0.00137322],\n",
       "       [0.9964504 , 0.00217669, 0.00137289],\n",
       "       [0.99692446, 0.00164075, 0.00143475],\n",
       "       [0.9970945 , 0.0015317 , 0.00137378],\n",
       "       [0.99539423, 0.00282315, 0.00178261],\n",
       "       [0.98679173, 0.01065497, 0.00255325],\n",
       "       [0.9966233 , 0.00194242, 0.00143432],\n",
       "       [0.99324554, 0.0046333 , 0.0021212 ],\n",
       "       [0.99539423, 0.00282315, 0.00178261],\n",
       "       [0.99263304, 0.00514372, 0.00222319],\n",
       "       [0.9957617 , 0.00286644, 0.00137194],\n",
       "       [0.99628025, 0.00207135, 0.0016484 ],\n",
       "       [0.99648786, 0.00193375, 0.00157841],\n",
       "       [0.99659204, 0.00203488, 0.00137309],\n",
       "       [0.99539423, 0.00282315, 0.00178261],\n",
       "       [0.9912787 , 0.00626579, 0.00245545],\n",
       "       [0.9964914 , 0.00207453, 0.00143413],\n",
       "       [0.97948587, 0.01621587, 0.00429825],\n",
       "       [0.99669003, 0.00193671, 0.00137322],\n",
       "       [0.9925046 , 0.00563877, 0.00185664],\n",
       "       [0.9927326 , 0.00494492, 0.00232249],\n",
       "       [0.99667156, 0.00195527, 0.0013732 ],\n",
       "       [0.99691963, 0.00170688, 0.00137354],\n",
       "       [0.9964914 , 0.00207453, 0.00143413],\n",
       "       [0.9970945 , 0.0015317 , 0.00137378],\n",
       "       [0.99659204, 0.00203488, 0.00137309],\n",
       "       [0.9899365 , 0.00721521, 0.00284835],\n",
       "       [0.9942743 , 0.00376207, 0.00196356],\n",
       "       [0.99583155, 0.00273528, 0.00143318],\n",
       "       [0.99692446, 0.00164075, 0.00143475],\n",
       "       [0.9970945 , 0.0015317 , 0.00137378],\n",
       "       [0.99539423, 0.00282315, 0.00178261],\n",
       "       [0.9912787 , 0.00626579, 0.00245545],\n",
       "       [0.9964914 , 0.00207453, 0.00143413],\n",
       "       [0.99669003, 0.00193671, 0.00137322],\n",
       "       [0.9933293 , 0.00481259, 0.00185818],\n",
       "       [0.99539423, 0.00282315, 0.00178261],\n",
       "       [0.99667156, 0.00195527, 0.0013732 ],\n",
       "       [0.9927326 , 0.00494492, 0.00232249],\n",
       "       [0.9970945 , 0.0015317 , 0.00137378],\n",
       "       [0.99692446, 0.00164075, 0.00143475],\n",
       "       [0.98905677, 0.00849323, 0.00244994],\n",
       "       [0.9962664 , 0.00215557, 0.00157806],\n",
       "       [0.9964504 , 0.00217669, 0.00137289],\n",
       "       [0.99539423, 0.00282315, 0.00178261],\n",
       "       [0.99539423, 0.00282315, 0.00178261],\n",
       "       [0.9964914 , 0.00207453, 0.00143413],\n",
       "       [0.99692446, 0.00164075, 0.00143475],\n",
       "       [0.99388003, 0.00417473, 0.00194518],\n",
       "       [0.99669003, 0.00193671, 0.00137322],\n",
       "       [0.99539423, 0.00282315, 0.00178261],\n",
       "       [0.99539423, 0.00282315, 0.00178261],\n",
       "       [0.98667175, 0.00993065, 0.00339757],\n",
       "       [0.9964914 , 0.00207453, 0.00143413],\n",
       "       [0.9965571 , 0.00206982, 0.00137304],\n",
       "       [0.99607396, 0.00255367, 0.00137237],\n",
       "       [0.99648786, 0.00193375, 0.00157841],\n",
       "       [0.9943877 , 0.00383148, 0.00178081],\n",
       "       [0.99607396, 0.00255367, 0.00137237],\n",
       "       [0.9951644 , 0.00346445, 0.00137112],\n",
       "       [0.9957306 , 0.00246456, 0.0018049 ],\n",
       "       [0.99669003, 0.00193671, 0.00137322],\n",
       "       [0.98080057, 0.01533181, 0.00386764],\n",
       "       [0.9970945 , 0.0015317 , 0.00137378],\n",
       "       [0.9897877 , 0.00695397, 0.0032583 ],\n",
       "       [0.99473333, 0.00325454, 0.00201214],\n",
       "       [0.9951147 , 0.00302382, 0.00186152],\n",
       "       [0.9964914 , 0.00207453, 0.00143413],\n",
       "       [0.99669003, 0.00193671, 0.00137322],\n",
       "       [0.983043  , 0.01441337, 0.00254355],\n",
       "       [0.9970945 , 0.0015317 , 0.00137378],\n",
       "       [0.9957487 , 0.0028183 , 0.00143306],\n",
       "       [0.9915114 , 0.00653311, 0.00195552],\n",
       "       [0.9951147 , 0.00302382, 0.00186152],\n",
       "       [0.99669003, 0.00193671, 0.00137322],\n",
       "       [0.9487168 , 0.04693444, 0.00434875],\n",
       "       [0.9951147 , 0.00302382, 0.00186152],\n",
       "       [0.99227625, 0.00558503, 0.00213875],\n",
       "       [0.9889436 , 0.00775605, 0.00330033],\n",
       "       [0.99539423, 0.00282315, 0.00178261],\n",
       "       [0.99659204, 0.00203488, 0.00137309],\n",
       "       [0.9964504 , 0.00217669, 0.00137289],\n",
       "       [0.9927326 , 0.00494492, 0.00232249],\n",
       "       [0.9964504 , 0.00217669, 0.00137289],\n",
       "       [0.99626535, 0.00218523, 0.00154944],\n",
       "       [0.99648786, 0.00193375, 0.00157841],\n",
       "       [0.9686774 , 0.0275378 , 0.00378478],\n",
       "       [0.9970945 , 0.0015317 , 0.00137378],\n",
       "       [0.9970945 , 0.0015317 , 0.00137378],\n",
       "       [0.9929563 , 0.00526549, 0.00177825],\n",
       "       [0.9374785 , 0.05559665, 0.00692489],\n",
       "       [0.9939129 , 0.00396442, 0.00212263],\n",
       "       [0.99539423, 0.00282315, 0.00178261],\n",
       "       [0.98223996, 0.01393516, 0.00382494],\n",
       "       [0.98760045, 0.00995323, 0.00244634],\n",
       "       [0.9916769 , 0.00489427, 0.00342879],\n",
       "       [0.99530596, 0.00302886, 0.00166519],\n",
       "       [0.99539423, 0.00282315, 0.00178261],\n",
       "       [0.9962347 , 0.00233156, 0.00143376],\n",
       "       [0.995635  , 0.00299323, 0.00137177],\n",
       "       [0.99669003, 0.00193671, 0.00137322],\n",
       "       [0.99692446, 0.00164075, 0.00143475],\n",
       "       [0.98132783, 0.01415891, 0.00451325],\n",
       "       [0.99669003, 0.00193671, 0.00137322],\n",
       "       [0.99539423, 0.00282315, 0.00178261],\n",
       "       [0.99585646, 0.00249587, 0.0016477 ],\n",
       "       [0.9929563 , 0.00526549, 0.00177825],\n",
       "       [0.99667156, 0.00195527, 0.0013732 ],\n",
       "       [0.9957456 , 0.0023691 , 0.00188536],\n",
       "       [0.9964715 , 0.00209441, 0.0014341 ],\n",
       "       [0.99539423, 0.00282315, 0.00178261],\n",
       "       [0.9962664 , 0.00215557, 0.00157806],\n",
       "       [0.99607396, 0.00255367, 0.00137237],\n",
       "       [0.99648786, 0.00193375, 0.00157841],\n",
       "       [0.9970945 , 0.0015317 , 0.00137378],\n",
       "       [0.70362854, 0.2768055 , 0.01956601],\n",
       "       [0.9925378 , 0.00541897, 0.00204319],\n",
       "       [0.9912787 , 0.00626579, 0.00245545],\n",
       "       [0.9962664 , 0.00215557, 0.00157806],\n",
       "       [0.991714  , 0.00565878, 0.00262725],\n",
       "       [0.99669003, 0.00193671, 0.00137322],\n",
       "       [0.9965013 , 0.00212576, 0.00137296],\n",
       "       [0.99692446, 0.00164075, 0.00143475],\n",
       "       [0.99692446, 0.00164075, 0.00143475],\n",
       "       [0.9964914 , 0.00207453, 0.00143413],\n",
       "       [0.9964504 , 0.00217669, 0.00137289],\n",
       "       [0.99669003, 0.00193671, 0.00137322],\n",
       "       [0.995698  , 0.00256515, 0.00173692],\n",
       "       [0.9401122 , 0.05208542, 0.00780232],\n",
       "       [0.9951147 , 0.00302382, 0.00186152],\n",
       "       [0.9940369 , 0.00410352, 0.00185951],\n",
       "       [0.9944195 , 0.00345677, 0.00212371],\n",
       "       [0.99401605, 0.00403845, 0.00194544],\n",
       "       [0.98926455, 0.00732902, 0.0034065 ],\n",
       "       [0.9952663 , 0.00336247, 0.00137126],\n",
       "       [0.9966785 , 0.00194832, 0.0013732 ],\n",
       "       [0.9936435 , 0.00432509, 0.00203137],\n",
       "       [0.98926455, 0.00732902, 0.0034065 ],\n",
       "       [0.9965013 , 0.00212576, 0.00137296],\n",
       "       [0.99626535, 0.00218523, 0.00154944],\n",
       "       [0.9962134 , 0.00241404, 0.00137256],\n",
       "       [0.9970945 , 0.0015317 , 0.00137378],\n",
       "       [0.9943877 , 0.00383148, 0.00178081],\n",
       "       [0.9963864 , 0.00217968, 0.00143398],\n",
       "       [0.9970945 , 0.0015317 , 0.00137378],\n",
       "       [0.9964504 , 0.00217669, 0.00137289],\n",
       "       [0.99667156, 0.00195527, 0.0013732 ],\n",
       "       [0.9903661 , 0.00722557, 0.0024083 ],\n",
       "       [0.9949538 , 0.00305994, 0.00198617],\n",
       "       [0.9964914 , 0.00207453, 0.00143413],\n",
       "       [0.98978615, 0.00745652, 0.00275729],\n",
       "       [0.9899365 , 0.00721521, 0.00284835],\n",
       "       [0.9964914 , 0.00207453, 0.00143413],\n",
       "       [0.92966115, 0.06049189, 0.00984691],\n",
       "       [0.98905677, 0.00849323, 0.00244994],\n",
       "       [0.9951147 , 0.00302382, 0.00186152],\n",
       "       [0.9958627 , 0.00248959, 0.00164771],\n",
       "       [0.9951147 , 0.00302382, 0.00186152],\n",
       "       [0.9962347 , 0.00233156, 0.00143376],\n",
       "       [0.9970945 , 0.0015317 , 0.00137378],\n",
       "       [0.99583375, 0.00273299, 0.00143318],\n",
       "       [0.99223   , 0.00546006, 0.0023099 ],\n",
       "       [0.99520737, 0.00276654, 0.00202605],\n",
       "       [0.99607396, 0.00255367, 0.00137237],\n",
       "       [0.99501234, 0.00320571, 0.00178193],\n",
       "       [0.99681324, 0.00181336, 0.00137339],\n",
       "       [0.99669003, 0.00193671, 0.00137322],\n",
       "       [0.9970945 , 0.0015317 , 0.00137378],\n",
       "       [0.99687815, 0.00174841, 0.00137348]], dtype=float32)"
      ]
     },
     "execution_count": 95,
     "metadata": {},
     "output_type": "execute_result"
    }
   ],
   "source": [
    "preds"
   ]
  },
  {
   "cell_type": "code",
   "execution_count": 96,
   "metadata": {},
   "outputs": [],
   "source": [
    "best_preds = np.asarray([np.argmax(line) for line in preds])"
   ]
  },
  {
   "cell_type": "code",
   "execution_count": 97,
   "metadata": {},
   "outputs": [
    {
     "data": {
      "text/plain": [
       "array([0, 0, 0, 0, 0, 0, 0, 0, 0, 0, 0, 0, 0, 0, 0, 0, 0, 0, 0, 0, 0, 0,\n",
       "       0, 0, 0, 0, 0, 0, 0, 0, 0, 0, 0, 0, 0, 0, 0, 0, 0, 0, 0, 0, 0, 0,\n",
       "       0, 0, 0, 0, 0, 0, 0, 0, 0, 0, 0, 0, 0, 0, 0, 0, 0, 0, 0, 0, 0, 0,\n",
       "       0, 0, 0, 0, 0, 0, 0, 0, 0, 0, 0, 0, 0, 0, 0, 0, 0, 0, 0, 0, 0, 0,\n",
       "       0, 0, 0, 0, 0, 0, 0, 0, 0, 0, 0, 0, 0, 0, 0, 0, 0, 0, 0, 0, 0, 0,\n",
       "       0, 0, 0, 0, 0, 0, 0, 0, 0, 0, 0, 0, 0, 0, 0, 0, 0, 0, 0, 0, 0, 0,\n",
       "       0, 0, 0, 0, 0, 0, 0, 0, 0, 0, 0, 0, 0, 0, 0, 0, 0, 0, 0, 0, 0, 0,\n",
       "       0, 0, 0, 0, 0, 0, 0, 0, 0, 0, 0, 0, 0, 0, 0, 0, 0, 0, 0, 0, 0, 0,\n",
       "       0, 0, 0, 0, 0, 0, 0, 0, 0, 0, 0, 0, 0, 0, 0, 0, 0, 0, 0, 0, 0, 0,\n",
       "       0, 0, 0, 0, 0, 0, 0, 0, 0, 0, 0, 0, 0, 0, 0, 0, 0, 0, 0, 0, 0, 0,\n",
       "       0, 0, 0, 0, 0, 0, 0, 0, 0, 0, 0, 0, 0, 0, 0, 0, 0, 0, 0, 0, 0, 0,\n",
       "       0, 0, 0, 0, 0, 0, 0, 0, 0, 0, 0, 0, 0, 0, 0, 0, 0, 0, 0, 0, 0, 0,\n",
       "       0, 0, 0, 0, 0, 0, 0, 0, 0, 0, 0, 0, 0, 0, 0, 0, 0, 0, 0, 0, 0, 0,\n",
       "       0, 0, 0, 0, 0, 0, 0, 0, 0, 0, 0, 0], dtype=int64)"
      ]
     },
     "execution_count": 97,
     "metadata": {},
     "output_type": "execute_result"
    }
   ],
   "source": [
    "best_preds"
   ]
  },
  {
   "cell_type": "code",
   "execution_count": 99,
   "metadata": {},
   "outputs": [
    {
     "data": {
      "text/plain": [
       "array([0, 0, 0, 0, 0, 0, 0, 0, 0, 0, 0, 0, 1, 0, 0, 0, 0, 0, 0, 0, 0, 0,\n",
       "       0, 1, 0, 0, 0, 0, 0, 0, 0, 0, 0, 0, 0, 0, 0, 0, 0, 0, 0, 0, 0, 0,\n",
       "       0, 0, 0, 0, 0, 0, 0, 0, 1, 0, 0, 0, 0, 0, 0, 0, 0, 0, 0, 0, 0, 1,\n",
       "       0, 0, 0, 0, 0, 0, 0, 0, 0, 0, 0, 0, 0, 0, 0, 0, 0, 0, 0, 0, 0, 0,\n",
       "       0, 0, 0, 0, 0, 0, 0, 0, 0, 0, 0, 0, 0, 0, 0, 0, 0, 0, 0, 0, 0, 0,\n",
       "       0, 0, 0, 0, 0, 0, 0, 0, 0, 0, 0, 0, 0, 0, 0, 0, 0, 0, 0, 0, 0, 0,\n",
       "       0, 0, 0, 0, 0, 0, 0, 0, 0, 0, 0, 0, 0, 0, 0, 0, 0, 0, 0, 0, 0, 0,\n",
       "       0, 0, 0, 0, 0, 0, 0, 0, 0, 0, 0, 0, 0, 0, 0, 0, 0, 0, 0, 0, 0, 0,\n",
       "       0, 0, 0, 0, 0, 0, 0, 0, 0, 0, 0, 0, 0, 0, 0, 0, 0, 0, 0, 0, 0, 0,\n",
       "       0, 0, 0, 0, 0, 0, 0, 0, 0, 0, 0, 0, 0, 0, 0, 0, 0, 0, 1, 0, 0, 0,\n",
       "       0, 0, 0, 0, 0, 0, 0, 0, 0, 0, 0, 0, 0, 0, 0, 0, 0, 0, 0, 0, 0, 0,\n",
       "       0, 0, 0, 0, 0, 0, 0, 0, 0, 0, 0, 0, 0, 0, 0, 0, 0, 0, 0, 0, 0, 0,\n",
       "       0, 0, 0, 0, 0, 0, 0, 0, 0, 0, 0, 0, 0, 0, 0, 0, 0, 0, 0, 0, 0, 0,\n",
       "       0, 0, 0, 0, 0, 0, 0, 0, 0, 0, 0, 0], dtype=int8)"
      ]
     },
     "execution_count": 99,
     "metadata": {},
     "output_type": "execute_result"
    }
   ],
   "source": [
    "np.array(y_test)"
   ]
  },
  {
   "cell_type": "code",
   "execution_count": null,
   "metadata": {},
   "outputs": [],
   "source": []
  }
 ],
 "metadata": {
  "kernelspec": {
   "display_name": "Python 3",
   "language": "python",
   "name": "python3"
  },
  "language_info": {
   "codemirror_mode": {
    "name": "ipython",
    "version": 3
   },
   "file_extension": ".py",
   "mimetype": "text/x-python",
   "name": "python",
   "nbconvert_exporter": "python",
   "pygments_lexer": "ipython3",
   "version": "3.7.6"
  }
 },
 "nbformat": 4,
 "nbformat_minor": 4
}
