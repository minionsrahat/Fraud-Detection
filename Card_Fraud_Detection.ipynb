{
 "cells": [
  {
   "cell_type": "code",
   "execution_count": 1,
   "metadata": {},
   "outputs": [],
   "source": [
    "from pandas import read_csv\n",
    "import pandas as pd\n",
    "import matplotlib.pyplot as plt\n",
    "from sklearn.model_selection import train_test_split\n",
    "df = read_csv('creditcard.csv')"
   ]
  },
  {
   "cell_type": "code",
   "execution_count": 2,
   "metadata": {},
   "outputs": [],
   "source": [
    "from sklearn.model_selection import train_test_split\n",
    "from sklearn.linear_model import LinearRegression\n",
    "from sklearn.metrics import mean_absolute_error\n",
    "from sklearn.ensemble import IsolationForest\n",
    "from pyod.models.knn import KNN \n",
    "import pyod\n",
    "from pyod.utils.data import evaluate_print\n",
    "from scipy import stats\n",
    "import matplotlib.pyplot as plt\n",
    "%matplotlib inline\n",
    "import matplotlib.font_manager\n",
    "import numpy as np\n",
    "from pyod.models.abod import ABOD\n",
    "from pyod.models.knn import KNN\n",
    "from pyod.utils.data import generate_data, get_outliers_inliers\n",
    "import seaborn as sns \n",
    "from sklearn.neighbors import NearestNeighbors"
   ]
  },
  {
   "cell_type": "code",
   "execution_count": 3,
   "metadata": {},
   "outputs": [
    {
     "data": {
      "text/html": [
       "<div>\n",
       "<style scoped>\n",
       "    .dataframe tbody tr th:only-of-type {\n",
       "        vertical-align: middle;\n",
       "    }\n",
       "\n",
       "    .dataframe tbody tr th {\n",
       "        vertical-align: top;\n",
       "    }\n",
       "\n",
       "    .dataframe thead th {\n",
       "        text-align: right;\n",
       "    }\n",
       "</style>\n",
       "<table border=\"1\" class=\"dataframe\">\n",
       "  <thead>\n",
       "    <tr style=\"text-align: right;\">\n",
       "      <th></th>\n",
       "      <th>Time</th>\n",
       "      <th>V1</th>\n",
       "      <th>V2</th>\n",
       "      <th>V3</th>\n",
       "      <th>V4</th>\n",
       "      <th>V5</th>\n",
       "      <th>V6</th>\n",
       "      <th>V7</th>\n",
       "      <th>V8</th>\n",
       "      <th>V9</th>\n",
       "      <th>...</th>\n",
       "      <th>V21</th>\n",
       "      <th>V22</th>\n",
       "      <th>V23</th>\n",
       "      <th>V24</th>\n",
       "      <th>V25</th>\n",
       "      <th>V26</th>\n",
       "      <th>V27</th>\n",
       "      <th>V28</th>\n",
       "      <th>Amount</th>\n",
       "      <th>Class</th>\n",
       "    </tr>\n",
       "  </thead>\n",
       "  <tbody>\n",
       "    <tr>\n",
       "      <th>0</th>\n",
       "      <td>0.0</td>\n",
       "      <td>-1.359807</td>\n",
       "      <td>-0.072781</td>\n",
       "      <td>2.536347</td>\n",
       "      <td>1.378155</td>\n",
       "      <td>-0.338321</td>\n",
       "      <td>0.462388</td>\n",
       "      <td>0.239599</td>\n",
       "      <td>0.098698</td>\n",
       "      <td>0.363787</td>\n",
       "      <td>...</td>\n",
       "      <td>-0.018307</td>\n",
       "      <td>0.277838</td>\n",
       "      <td>-0.110474</td>\n",
       "      <td>0.066928</td>\n",
       "      <td>0.128539</td>\n",
       "      <td>-0.189115</td>\n",
       "      <td>0.133558</td>\n",
       "      <td>-0.021053</td>\n",
       "      <td>149.62</td>\n",
       "      <td>0</td>\n",
       "    </tr>\n",
       "    <tr>\n",
       "      <th>1</th>\n",
       "      <td>0.0</td>\n",
       "      <td>1.191857</td>\n",
       "      <td>0.266151</td>\n",
       "      <td>0.166480</td>\n",
       "      <td>0.448154</td>\n",
       "      <td>0.060018</td>\n",
       "      <td>-0.082361</td>\n",
       "      <td>-0.078803</td>\n",
       "      <td>0.085102</td>\n",
       "      <td>-0.255425</td>\n",
       "      <td>...</td>\n",
       "      <td>-0.225775</td>\n",
       "      <td>-0.638672</td>\n",
       "      <td>0.101288</td>\n",
       "      <td>-0.339846</td>\n",
       "      <td>0.167170</td>\n",
       "      <td>0.125895</td>\n",
       "      <td>-0.008983</td>\n",
       "      <td>0.014724</td>\n",
       "      <td>2.69</td>\n",
       "      <td>0</td>\n",
       "    </tr>\n",
       "    <tr>\n",
       "      <th>2</th>\n",
       "      <td>1.0</td>\n",
       "      <td>-1.358354</td>\n",
       "      <td>-1.340163</td>\n",
       "      <td>1.773209</td>\n",
       "      <td>0.379780</td>\n",
       "      <td>-0.503198</td>\n",
       "      <td>1.800499</td>\n",
       "      <td>0.791461</td>\n",
       "      <td>0.247676</td>\n",
       "      <td>-1.514654</td>\n",
       "      <td>...</td>\n",
       "      <td>0.247998</td>\n",
       "      <td>0.771679</td>\n",
       "      <td>0.909412</td>\n",
       "      <td>-0.689281</td>\n",
       "      <td>-0.327642</td>\n",
       "      <td>-0.139097</td>\n",
       "      <td>-0.055353</td>\n",
       "      <td>-0.059752</td>\n",
       "      <td>378.66</td>\n",
       "      <td>0</td>\n",
       "    </tr>\n",
       "    <tr>\n",
       "      <th>3</th>\n",
       "      <td>1.0</td>\n",
       "      <td>-0.966272</td>\n",
       "      <td>-0.185226</td>\n",
       "      <td>1.792993</td>\n",
       "      <td>-0.863291</td>\n",
       "      <td>-0.010309</td>\n",
       "      <td>1.247203</td>\n",
       "      <td>0.237609</td>\n",
       "      <td>0.377436</td>\n",
       "      <td>-1.387024</td>\n",
       "      <td>...</td>\n",
       "      <td>-0.108300</td>\n",
       "      <td>0.005274</td>\n",
       "      <td>-0.190321</td>\n",
       "      <td>-1.175575</td>\n",
       "      <td>0.647376</td>\n",
       "      <td>-0.221929</td>\n",
       "      <td>0.062723</td>\n",
       "      <td>0.061458</td>\n",
       "      <td>123.50</td>\n",
       "      <td>0</td>\n",
       "    </tr>\n",
       "    <tr>\n",
       "      <th>4</th>\n",
       "      <td>2.0</td>\n",
       "      <td>-1.158233</td>\n",
       "      <td>0.877737</td>\n",
       "      <td>1.548718</td>\n",
       "      <td>0.403034</td>\n",
       "      <td>-0.407193</td>\n",
       "      <td>0.095921</td>\n",
       "      <td>0.592941</td>\n",
       "      <td>-0.270533</td>\n",
       "      <td>0.817739</td>\n",
       "      <td>...</td>\n",
       "      <td>-0.009431</td>\n",
       "      <td>0.798278</td>\n",
       "      <td>-0.137458</td>\n",
       "      <td>0.141267</td>\n",
       "      <td>-0.206010</td>\n",
       "      <td>0.502292</td>\n",
       "      <td>0.219422</td>\n",
       "      <td>0.215153</td>\n",
       "      <td>69.99</td>\n",
       "      <td>0</td>\n",
       "    </tr>\n",
       "    <tr>\n",
       "      <th>5</th>\n",
       "      <td>2.0</td>\n",
       "      <td>-0.425966</td>\n",
       "      <td>0.960523</td>\n",
       "      <td>1.141109</td>\n",
       "      <td>-0.168252</td>\n",
       "      <td>0.420987</td>\n",
       "      <td>-0.029728</td>\n",
       "      <td>0.476201</td>\n",
       "      <td>0.260314</td>\n",
       "      <td>-0.568671</td>\n",
       "      <td>...</td>\n",
       "      <td>-0.208254</td>\n",
       "      <td>-0.559825</td>\n",
       "      <td>-0.026398</td>\n",
       "      <td>-0.371427</td>\n",
       "      <td>-0.232794</td>\n",
       "      <td>0.105915</td>\n",
       "      <td>0.253844</td>\n",
       "      <td>0.081080</td>\n",
       "      <td>3.67</td>\n",
       "      <td>0</td>\n",
       "    </tr>\n",
       "    <tr>\n",
       "      <th>6</th>\n",
       "      <td>4.0</td>\n",
       "      <td>1.229658</td>\n",
       "      <td>0.141004</td>\n",
       "      <td>0.045371</td>\n",
       "      <td>1.202613</td>\n",
       "      <td>0.191881</td>\n",
       "      <td>0.272708</td>\n",
       "      <td>-0.005159</td>\n",
       "      <td>0.081213</td>\n",
       "      <td>0.464960</td>\n",
       "      <td>...</td>\n",
       "      <td>-0.167716</td>\n",
       "      <td>-0.270710</td>\n",
       "      <td>-0.154104</td>\n",
       "      <td>-0.780055</td>\n",
       "      <td>0.750137</td>\n",
       "      <td>-0.257237</td>\n",
       "      <td>0.034507</td>\n",
       "      <td>0.005168</td>\n",
       "      <td>4.99</td>\n",
       "      <td>0</td>\n",
       "    </tr>\n",
       "    <tr>\n",
       "      <th>7</th>\n",
       "      <td>7.0</td>\n",
       "      <td>-0.644269</td>\n",
       "      <td>1.417964</td>\n",
       "      <td>1.074380</td>\n",
       "      <td>-0.492199</td>\n",
       "      <td>0.948934</td>\n",
       "      <td>0.428118</td>\n",
       "      <td>1.120631</td>\n",
       "      <td>-3.807864</td>\n",
       "      <td>0.615375</td>\n",
       "      <td>...</td>\n",
       "      <td>1.943465</td>\n",
       "      <td>-1.015455</td>\n",
       "      <td>0.057504</td>\n",
       "      <td>-0.649709</td>\n",
       "      <td>-0.415267</td>\n",
       "      <td>-0.051634</td>\n",
       "      <td>-1.206921</td>\n",
       "      <td>-1.085339</td>\n",
       "      <td>40.80</td>\n",
       "      <td>0</td>\n",
       "    </tr>\n",
       "    <tr>\n",
       "      <th>8</th>\n",
       "      <td>7.0</td>\n",
       "      <td>-0.894286</td>\n",
       "      <td>0.286157</td>\n",
       "      <td>-0.113192</td>\n",
       "      <td>-0.271526</td>\n",
       "      <td>2.669599</td>\n",
       "      <td>3.721818</td>\n",
       "      <td>0.370145</td>\n",
       "      <td>0.851084</td>\n",
       "      <td>-0.392048</td>\n",
       "      <td>...</td>\n",
       "      <td>-0.073425</td>\n",
       "      <td>-0.268092</td>\n",
       "      <td>-0.204233</td>\n",
       "      <td>1.011592</td>\n",
       "      <td>0.373205</td>\n",
       "      <td>-0.384157</td>\n",
       "      <td>0.011747</td>\n",
       "      <td>0.142404</td>\n",
       "      <td>93.20</td>\n",
       "      <td>0</td>\n",
       "    </tr>\n",
       "    <tr>\n",
       "      <th>9</th>\n",
       "      <td>9.0</td>\n",
       "      <td>-0.338262</td>\n",
       "      <td>1.119593</td>\n",
       "      <td>1.044367</td>\n",
       "      <td>-0.222187</td>\n",
       "      <td>0.499361</td>\n",
       "      <td>-0.246761</td>\n",
       "      <td>0.651583</td>\n",
       "      <td>0.069539</td>\n",
       "      <td>-0.736727</td>\n",
       "      <td>...</td>\n",
       "      <td>-0.246914</td>\n",
       "      <td>-0.633753</td>\n",
       "      <td>-0.120794</td>\n",
       "      <td>-0.385050</td>\n",
       "      <td>-0.069733</td>\n",
       "      <td>0.094199</td>\n",
       "      <td>0.246219</td>\n",
       "      <td>0.083076</td>\n",
       "      <td>3.68</td>\n",
       "      <td>0</td>\n",
       "    </tr>\n",
       "  </tbody>\n",
       "</table>\n",
       "<p>10 rows × 31 columns</p>\n",
       "</div>"
      ],
      "text/plain": [
       "   Time        V1        V2        V3        V4        V5        V6        V7  \\\n",
       "0   0.0 -1.359807 -0.072781  2.536347  1.378155 -0.338321  0.462388  0.239599   \n",
       "1   0.0  1.191857  0.266151  0.166480  0.448154  0.060018 -0.082361 -0.078803   \n",
       "2   1.0 -1.358354 -1.340163  1.773209  0.379780 -0.503198  1.800499  0.791461   \n",
       "3   1.0 -0.966272 -0.185226  1.792993 -0.863291 -0.010309  1.247203  0.237609   \n",
       "4   2.0 -1.158233  0.877737  1.548718  0.403034 -0.407193  0.095921  0.592941   \n",
       "5   2.0 -0.425966  0.960523  1.141109 -0.168252  0.420987 -0.029728  0.476201   \n",
       "6   4.0  1.229658  0.141004  0.045371  1.202613  0.191881  0.272708 -0.005159   \n",
       "7   7.0 -0.644269  1.417964  1.074380 -0.492199  0.948934  0.428118  1.120631   \n",
       "8   7.0 -0.894286  0.286157 -0.113192 -0.271526  2.669599  3.721818  0.370145   \n",
       "9   9.0 -0.338262  1.119593  1.044367 -0.222187  0.499361 -0.246761  0.651583   \n",
       "\n",
       "         V8        V9  ...       V21       V22       V23       V24       V25  \\\n",
       "0  0.098698  0.363787  ... -0.018307  0.277838 -0.110474  0.066928  0.128539   \n",
       "1  0.085102 -0.255425  ... -0.225775 -0.638672  0.101288 -0.339846  0.167170   \n",
       "2  0.247676 -1.514654  ...  0.247998  0.771679  0.909412 -0.689281 -0.327642   \n",
       "3  0.377436 -1.387024  ... -0.108300  0.005274 -0.190321 -1.175575  0.647376   \n",
       "4 -0.270533  0.817739  ... -0.009431  0.798278 -0.137458  0.141267 -0.206010   \n",
       "5  0.260314 -0.568671  ... -0.208254 -0.559825 -0.026398 -0.371427 -0.232794   \n",
       "6  0.081213  0.464960  ... -0.167716 -0.270710 -0.154104 -0.780055  0.750137   \n",
       "7 -3.807864  0.615375  ...  1.943465 -1.015455  0.057504 -0.649709 -0.415267   \n",
       "8  0.851084 -0.392048  ... -0.073425 -0.268092 -0.204233  1.011592  0.373205   \n",
       "9  0.069539 -0.736727  ... -0.246914 -0.633753 -0.120794 -0.385050 -0.069733   \n",
       "\n",
       "        V26       V27       V28  Amount  Class  \n",
       "0 -0.189115  0.133558 -0.021053  149.62      0  \n",
       "1  0.125895 -0.008983  0.014724    2.69      0  \n",
       "2 -0.139097 -0.055353 -0.059752  378.66      0  \n",
       "3 -0.221929  0.062723  0.061458  123.50      0  \n",
       "4  0.502292  0.219422  0.215153   69.99      0  \n",
       "5  0.105915  0.253844  0.081080    3.67      0  \n",
       "6 -0.257237  0.034507  0.005168    4.99      0  \n",
       "7 -0.051634 -1.206921 -1.085339   40.80      0  \n",
       "8 -0.384157  0.011747  0.142404   93.20      0  \n",
       "9  0.094199  0.246219  0.083076    3.68      0  \n",
       "\n",
       "[10 rows x 31 columns]"
      ]
     },
     "execution_count": 3,
     "metadata": {},
     "output_type": "execute_result"
    }
   ],
   "source": [
    "df.head(10)"
   ]
  },
  {
   "cell_type": "code",
   "execution_count": 37,
   "metadata": {},
   "outputs": [
    {
     "data": {
      "text/plain": [
       "284807"
      ]
     },
     "execution_count": 37,
     "metadata": {},
     "output_type": "execute_result"
    }
   ],
   "source": [
    "len(df.index)"
   ]
  },
  {
   "cell_type": "code",
   "execution_count": 4,
   "metadata": {},
   "outputs": [],
   "source": [
    "from sklearn.preprocessing import LabelEncoder\n",
    "le = LabelEncoder()"
   ]
  },
  {
   "cell_type": "code",
   "execution_count": 5,
   "metadata": {},
   "outputs": [
    {
     "name": "stdout",
     "output_type": "stream",
     "text": [
      "isFraud\n",
      "0    6354407\n",
      "1       8213\n",
      "Name: type, dtype: int64\n"
     ]
    }
   ],
   "source": [
    "print(df.groupby('isFraud')['type'].count())"
   ]
  },
  {
   "cell_type": "code",
   "execution_count": 6,
   "metadata": {},
   "outputs": [
    {
     "data": {
      "text/plain": [
       "0    6354407\n",
       "1       8213\n",
       "Name: isFraud, dtype: int64"
      ]
     },
     "execution_count": 6,
     "metadata": {},
     "output_type": "execute_result"
    }
   ],
   "source": [
    "df.isFraud.value_counts()"
   ]
  },
  {
   "cell_type": "code",
   "execution_count": 7,
   "metadata": {},
   "outputs": [
    {
     "name": "stderr",
     "output_type": "stream",
     "text": [
      "C:\\ProgramData\\Anaconda3\\lib\\site-packages\\sklearn\\preprocessing\\_label.py:251: DataConversionWarning: A column-vector y was passed when a 1d array was expected. Please change the shape of y to (n_samples, ), for example using ravel().\n",
      "  y = column_or_1d(y, warn=True)\n"
     ]
    }
   ],
   "source": [
    "df.loc[:,['type']]=le.fit_transform(df.loc[:,['type']])"
   ]
  },
  {
   "cell_type": "code",
   "execution_count": 8,
   "metadata": {},
   "outputs": [],
   "source": [
    "df.loc[:,['nameOrig']]=le.fit_transform(df.loc[:,['nameOrig']])\n",
    "df.loc[:,['nameDest']]=le.fit_transform(df.loc[:,['nameDest']])"
   ]
  },
  {
   "cell_type": "code",
   "execution_count": 9,
   "metadata": {},
   "outputs": [
    {
     "data": {
      "text/plain": [
       "2964663    3\n",
       "213775     3\n",
       "3455282    3\n",
       "1742342    3\n",
       "3207898    3\n",
       "          ..\n",
       "2416178    1\n",
       "2420276    1\n",
       "2424374    1\n",
       "2395704    1\n",
       "0          1\n",
       "Name: nameOrig, Length: 6353307, dtype: int64"
      ]
     },
     "execution_count": 9,
     "metadata": {},
     "output_type": "execute_result"
    }
   ],
   "source": [
    "df.nameOrig.value_counts()"
   ]
  },
  {
   "cell_type": "code",
   "execution_count": 10,
   "metadata": {},
   "outputs": [],
   "source": [
    "df2=df[df.columns.drop(['step','nameOrig','nameDest','isFraud','isFlaggedFraud'])].copy()"
   ]
  },
  {
   "cell_type": "code",
   "execution_count": 3,
   "metadata": {},
   "outputs": [],
   "source": [
    "df2=df[df.columns.drop(['Time','Class'])].copy()\n"
   ]
  },
  {
   "cell_type": "code",
   "execution_count": 5,
   "metadata": {},
   "outputs": [],
   "source": [
    "data=df2.values"
   ]
  },
  {
   "cell_type": "code",
   "execution_count": 7,
   "metadata": {},
   "outputs": [
    {
     "data": {
      "text/plain": [
       "NearestNeighbors(algorithm='auto', leaf_size=30, metric='minkowski',\n",
       "                 metric_params=None, n_jobs=None, n_neighbors=3, p=2,\n",
       "                 radius=1.0)"
      ]
     },
     "execution_count": 7,
     "metadata": {},
     "output_type": "execute_result"
    }
   ],
   "source": [
    "# instantiate model\n",
    "nbrs = NearestNeighbors(n_neighbors = 3)\n",
    "# fit model\n",
    "nbrs.fit(data)"
   ]
  },
  {
   "cell_type": "code",
   "execution_count": 10,
   "metadata": {},
   "outputs": [
    {
     "data": {
      "text/plain": [
       "[<matplotlib.lines.Line2D at 0x263049f2f08>]"
      ]
     },
     "execution_count": 10,
     "metadata": {},
     "output_type": "execute_result"
    },
    {
     "data": {
      "image/png": "[encoded data removed]",
      "text/plain": [
       "<Figure size 720x576 with 1 Axes>"
      ]
     },
     "metadata": {
      "needs_background": "light"
     },
     "output_type": "display_data"
    }
   ],
   "source": [
    "# distances and indexes of k-neaighbors from model outputs\n",
    "distances, indexes = nbrs.kneighbors(data)\n",
    "# plot mean of k-distances of each observation\n",
    "plt.plot(distances.mean(axis =1))"
   ]
  },
  {
   "cell_type": "code",
   "execution_count": 9,
   "metadata": {},
   "outputs": [],
   "source": [
    "plt.rcParams[\"figure.figsize\"] = (10,8)"
   ]
  },
  {
   "cell_type": "code",
   "execution_count": 25,
   "metadata": {},
   "outputs": [
    {
     "data": {
      "text/html": [
       "<div>\n",
       "<style scoped>\n",
       "    .dataframe tbody tr th:only-of-type {\n",
       "        vertical-align: middle;\n",
       "    }\n",
       "\n",
       "    .dataframe tbody tr th {\n",
       "        vertical-align: top;\n",
       "    }\n",
       "\n",
       "    .dataframe thead th {\n",
       "        text-align: right;\n",
       "    }\n",
       "</style>\n",
       "<table border=\"1\" class=\"dataframe\">\n",
       "  <thead>\n",
       "    <tr style=\"text-align: right;\">\n",
       "      <th></th>\n",
       "      <th>Time</th>\n",
       "      <th>V1</th>\n",
       "      <th>V2</th>\n",
       "      <th>V3</th>\n",
       "      <th>V4</th>\n",
       "      <th>V5</th>\n",
       "      <th>V6</th>\n",
       "      <th>V7</th>\n",
       "      <th>V8</th>\n",
       "      <th>V9</th>\n",
       "      <th>...</th>\n",
       "      <th>V21</th>\n",
       "      <th>V22</th>\n",
       "      <th>V23</th>\n",
       "      <th>V24</th>\n",
       "      <th>V25</th>\n",
       "      <th>V26</th>\n",
       "      <th>V27</th>\n",
       "      <th>V28</th>\n",
       "      <th>Amount</th>\n",
       "      <th>Class</th>\n",
       "    </tr>\n",
       "  </thead>\n",
       "  <tbody>\n",
       "    <tr>\n",
       "      <th>164</th>\n",
       "      <td>103.0</td>\n",
       "      <td>-6.093248</td>\n",
       "      <td>-12.114213</td>\n",
       "      <td>-5.694973</td>\n",
       "      <td>3.294389</td>\n",
       "      <td>-1.413792</td>\n",
       "      <td>4.776000</td>\n",
       "      <td>4.808426</td>\n",
       "      <td>-0.228197</td>\n",
       "      <td>-0.525896</td>\n",
       "      <td>...</td>\n",
       "      <td>2.228823</td>\n",
       "      <td>-2.264037</td>\n",
       "      <td>-3.553381</td>\n",
       "      <td>1.215279</td>\n",
       "      <td>-0.406073</td>\n",
       "      <td>-0.653384</td>\n",
       "      <td>-0.711222</td>\n",
       "      <td>0.672900</td>\n",
       "      <td>3828.04</td>\n",
       "      <td>0</td>\n",
       "    </tr>\n",
       "    <tr>\n",
       "      <th>1632</th>\n",
       "      <td>1264.0</td>\n",
       "      <td>-11.140706</td>\n",
       "      <td>-9.612726</td>\n",
       "      <td>-12.389545</td>\n",
       "      <td>6.013346</td>\n",
       "      <td>-32.092129</td>\n",
       "      <td>21.393069</td>\n",
       "      <td>34.303177</td>\n",
       "      <td>-7.520784</td>\n",
       "      <td>-1.925732</td>\n",
       "      <td>...</td>\n",
       "      <td>-4.709977</td>\n",
       "      <td>1.366110</td>\n",
       "      <td>-2.925888</td>\n",
       "      <td>0.843551</td>\n",
       "      <td>0.746267</td>\n",
       "      <td>0.801387</td>\n",
       "      <td>3.852046</td>\n",
       "      <td>4.157934</td>\n",
       "      <td>7712.43</td>\n",
       "      <td>0</td>\n",
       "    </tr>\n",
       "    <tr>\n",
       "      <th>6783</th>\n",
       "      <td>8544.0</td>\n",
       "      <td>-6.571336</td>\n",
       "      <td>-11.943892</td>\n",
       "      <td>-4.246322</td>\n",
       "      <td>6.825816</td>\n",
       "      <td>-2.896624</td>\n",
       "      <td>2.706661</td>\n",
       "      <td>5.373923</td>\n",
       "      <td>-0.872187</td>\n",
       "      <td>-0.626203</td>\n",
       "      <td>...</td>\n",
       "      <td>2.220493</td>\n",
       "      <td>-2.395098</td>\n",
       "      <td>-3.731391</td>\n",
       "      <td>-1.015761</td>\n",
       "      <td>-0.740824</td>\n",
       "      <td>-0.297883</td>\n",
       "      <td>-0.793710</td>\n",
       "      <td>0.680622</td>\n",
       "      <td>4002.88</td>\n",
       "      <td>0</td>\n",
       "    </tr>\n",
       "    <tr>\n",
       "      <th>7617</th>\n",
       "      <td>10538.0</td>\n",
       "      <td>-6.487286</td>\n",
       "      <td>-13.630449</td>\n",
       "      <td>-3.190735</td>\n",
       "      <td>2.890879</td>\n",
       "      <td>-5.115535</td>\n",
       "      <td>2.393873</td>\n",
       "      <td>3.759791</td>\n",
       "      <td>-0.587387</td>\n",
       "      <td>0.816890</td>\n",
       "      <td>...</td>\n",
       "      <td>2.364465</td>\n",
       "      <td>-1.835567</td>\n",
       "      <td>-3.435921</td>\n",
       "      <td>-0.125621</td>\n",
       "      <td>-1.311011</td>\n",
       "      <td>-0.663526</td>\n",
       "      <td>-0.702356</td>\n",
       "      <td>0.694100</td>\n",
       "      <td>3995.92</td>\n",
       "      <td>0</td>\n",
       "    </tr>\n",
       "    <tr>\n",
       "      <th>15714</th>\n",
       "      <td>27147.0</td>\n",
       "      <td>-6.443738</td>\n",
       "      <td>-13.792197</td>\n",
       "      <td>-2.972727</td>\n",
       "      <td>3.132179</td>\n",
       "      <td>-5.983778</td>\n",
       "      <td>1.276738</td>\n",
       "      <td>4.029743</td>\n",
       "      <td>-0.879509</td>\n",
       "      <td>0.235719</td>\n",
       "      <td>...</td>\n",
       "      <td>1.729126</td>\n",
       "      <td>-3.183478</td>\n",
       "      <td>-3.334090</td>\n",
       "      <td>0.966115</td>\n",
       "      <td>-1.408661</td>\n",
       "      <td>0.531729</td>\n",
       "      <td>-0.746892</td>\n",
       "      <td>0.714763</td>\n",
       "      <td>4000.00</td>\n",
       "      <td>0</td>\n",
       "    </tr>\n",
       "    <tr>\n",
       "      <th>15835</th>\n",
       "      <td>27283.0</td>\n",
       "      <td>-10.410270</td>\n",
       "      <td>-19.917165</td>\n",
       "      <td>-6.833829</td>\n",
       "      <td>4.398751</td>\n",
       "      <td>-6.914945</td>\n",
       "      <td>0.953082</td>\n",
       "      <td>7.946898</td>\n",
       "      <td>-1.911031</td>\n",
       "      <td>-1.721496</td>\n",
       "      <td>...</td>\n",
       "      <td>3.261073</td>\n",
       "      <td>-4.055161</td>\n",
       "      <td>-5.342157</td>\n",
       "      <td>0.723590</td>\n",
       "      <td>-1.942346</td>\n",
       "      <td>0.358646</td>\n",
       "      <td>-1.235022</td>\n",
       "      <td>1.066446</td>\n",
       "      <td>6130.21</td>\n",
       "      <td>0</td>\n",
       "    </tr>\n",
       "    <tr>\n",
       "      <th>18570</th>\n",
       "      <td>29601.0</td>\n",
       "      <td>-5.715306</td>\n",
       "      <td>-0.094700</td>\n",
       "      <td>-7.856475</td>\n",
       "      <td>2.259661</td>\n",
       "      <td>-23.611865</td>\n",
       "      <td>16.493227</td>\n",
       "      <td>21.437514</td>\n",
       "      <td>-10.623397</td>\n",
       "      <td>-0.968764</td>\n",
       "      <td>...</td>\n",
       "      <td>1.781773</td>\n",
       "      <td>-0.875350</td>\n",
       "      <td>-4.113185</td>\n",
       "      <td>0.531372</td>\n",
       "      <td>-0.030760</td>\n",
       "      <td>0.429433</td>\n",
       "      <td>6.211230</td>\n",
       "      <td>-2.298957</td>\n",
       "      <td>5239.50</td>\n",
       "      <td>0</td>\n",
       "    </tr>\n",
       "    <tr>\n",
       "      <th>19760</th>\n",
       "      <td>30537.0</td>\n",
       "      <td>-14.191832</td>\n",
       "      <td>-25.313252</td>\n",
       "      <td>-7.578781</td>\n",
       "      <td>7.730844</td>\n",
       "      <td>-8.285413</td>\n",
       "      <td>3.994474</td>\n",
       "      <td>9.656752</td>\n",
       "      <td>-1.502509</td>\n",
       "      <td>-0.231141</td>\n",
       "      <td>...</td>\n",
       "      <td>4.696025</td>\n",
       "      <td>-4.067605</td>\n",
       "      <td>-6.869451</td>\n",
       "      <td>0.107527</td>\n",
       "      <td>-2.640366</td>\n",
       "      <td>-1.237598</td>\n",
       "      <td>-1.387145</td>\n",
       "      <td>1.389367</td>\n",
       "      <td>7879.42</td>\n",
       "      <td>0</td>\n",
       "    </tr>\n",
       "    <tr>\n",
       "      <th>23128</th>\n",
       "      <td>32605.0</td>\n",
       "      <td>-23.383129</td>\n",
       "      <td>-18.098804</td>\n",
       "      <td>-20.195367</td>\n",
       "      <td>4.249104</td>\n",
       "      <td>-42.147898</td>\n",
       "      <td>22.529298</td>\n",
       "      <td>36.677268</td>\n",
       "      <td>-4.862800</td>\n",
       "      <td>1.645619</td>\n",
       "      <td>...</td>\n",
       "      <td>-5.893230</td>\n",
       "      <td>-0.139751</td>\n",
       "      <td>-6.086173</td>\n",
       "      <td>1.924973</td>\n",
       "      <td>0.669689</td>\n",
       "      <td>0.449781</td>\n",
       "      <td>11.135740</td>\n",
       "      <td>-9.617915</td>\n",
       "      <td>7429.15</td>\n",
       "      <td>0</td>\n",
       "    </tr>\n",
       "    <tr>\n",
       "      <th>37000</th>\n",
       "      <td>38763.0</td>\n",
       "      <td>-14.711825</td>\n",
       "      <td>-23.250844</td>\n",
       "      <td>-7.631400</td>\n",
       "      <td>5.975826</td>\n",
       "      <td>-15.615302</td>\n",
       "      <td>8.060516</td>\n",
       "      <td>21.246173</td>\n",
       "      <td>-1.896157</td>\n",
       "      <td>-1.450057</td>\n",
       "      <td>...</td>\n",
       "      <td>4.413073</td>\n",
       "      <td>-0.491620</td>\n",
       "      <td>17.297845</td>\n",
       "      <td>-0.503495</td>\n",
       "      <td>1.939396</td>\n",
       "      <td>-1.049141</td>\n",
       "      <td>-2.457912</td>\n",
       "      <td>0.623320</td>\n",
       "      <td>6950.51</td>\n",
       "      <td>0</td>\n",
       "    </tr>\n",
       "  </tbody>\n",
       "</table>\n",
       "<p>10 rows × 31 columns</p>\n",
       "</div>"
      ],
      "text/plain": [
       "          Time         V1         V2         V3        V4         V5  \\\n",
       "164      103.0  -6.093248 -12.114213  -5.694973  3.294389  -1.413792   \n",
       "1632    1264.0 -11.140706  -9.612726 -12.389545  6.013346 -32.092129   \n",
       "6783    8544.0  -6.571336 -11.943892  -4.246322  6.825816  -2.896624   \n",
       "7617   10538.0  -6.487286 -13.630449  -3.190735  2.890879  -5.115535   \n",
       "15714  27147.0  -6.443738 -13.792197  -2.972727  3.132179  -5.983778   \n",
       "15835  27283.0 -10.410270 -19.917165  -6.833829  4.398751  -6.914945   \n",
       "18570  29601.0  -5.715306  -0.094700  -7.856475  2.259661 -23.611865   \n",
       "19760  30537.0 -14.191832 -25.313252  -7.578781  7.730844  -8.285413   \n",
       "23128  32605.0 -23.383129 -18.098804 -20.195367  4.249104 -42.147898   \n",
       "37000  38763.0 -14.711825 -23.250844  -7.631400  5.975826 -15.615302   \n",
       "\n",
       "              V6         V7         V8        V9  ...       V21       V22  \\\n",
       "164     4.776000   4.808426  -0.228197 -0.525896  ...  2.228823 -2.264037   \n",
       "1632   21.393069  34.303177  -7.520784 -1.925732  ... -4.709977  1.366110   \n",
       "6783    2.706661   5.373923  -0.872187 -0.626203  ...  2.220493 -2.395098   \n",
       "7617    2.393873   3.759791  -0.587387  0.816890  ...  2.364465 -1.835567   \n",
       "15714   1.276738   4.029743  -0.879509  0.235719  ...  1.729126 -3.183478   \n",
       "15835   0.953082   7.946898  -1.911031 -1.721496  ...  3.261073 -4.055161   \n",
       "18570  16.493227  21.437514 -10.623397 -0.968764  ...  1.781773 -0.875350   \n",
       "19760   3.994474   9.656752  -1.502509 -0.231141  ...  4.696025 -4.067605   \n",
       "23128  22.529298  36.677268  -4.862800  1.645619  ... -5.893230 -0.139751   \n",
       "37000   8.060516  21.246173  -1.896157 -1.450057  ...  4.413073 -0.491620   \n",
       "\n",
       "             V23       V24       V25       V26        V27       V28   Amount  \\\n",
       "164    -3.553381  1.215279 -0.406073 -0.653384  -0.711222  0.672900  3828.04   \n",
       "1632   -2.925888  0.843551  0.746267  0.801387   3.852046  4.157934  7712.43   \n",
       "6783   -3.731391 -1.015761 -0.740824 -0.297883  -0.793710  0.680622  4002.88   \n",
       "7617   -3.435921 -0.125621 -1.311011 -0.663526  -0.702356  0.694100  3995.92   \n",
       "15714  -3.334090  0.966115 -1.408661  0.531729  -0.746892  0.714763  4000.00   \n",
       "15835  -5.342157  0.723590 -1.942346  0.358646  -1.235022  1.066446  6130.21   \n",
       "18570  -4.113185  0.531372 -0.030760  0.429433   6.211230 -2.298957  5239.50   \n",
       "19760  -6.869451  0.107527 -2.640366 -1.237598  -1.387145  1.389367  7879.42   \n",
       "23128  -6.086173  1.924973  0.669689  0.449781  11.135740 -9.617915  7429.15   \n",
       "37000  17.297845 -0.503495  1.939396 -1.049141  -2.457912  0.623320  6950.51   \n",
       "\n",
       "       Class  \n",
       "164        0  \n",
       "1632       0  \n",
       "6783       0  \n",
       "7617       0  \n",
       "15714      0  \n",
       "15835      0  \n",
       "18570      0  \n",
       "19760      0  \n",
       "23128      0  \n",
       "37000      0  \n",
       "\n",
       "[10 rows x 31 columns]"
      ]
     },
     "execution_count": 25,
     "metadata": {},
     "output_type": "execute_result"
    }
   ],
   "source": [
    "outlier_index = np.where(distances.mean(axis = 1) >1000)\n",
    "outlier_values = df.iloc[outlier_index]\n",
    "outlier_values.head(10)"
   ]
  },
  {
   "cell_type": "code",
   "execution_count": 5,
   "metadata": {},
   "outputs": [
    {
     "data": {
      "text/plain": [
       "0    284315\n",
       "1       492\n",
       "Name: Class, dtype: int64"
      ]
     },
     "execution_count": 5,
     "metadata": {},
     "output_type": "execute_result"
    }
   ],
   "source": [
    "df.Class.value_counts()"
   ]
  },
  {
   "cell_type": "code",
   "execution_count": 26,
   "metadata": {},
   "outputs": [
    {
     "data": {
      "text/plain": [
       "0    40\n",
       "Name: Class, dtype: int64"
      ]
     },
     "execution_count": 26,
     "metadata": {},
     "output_type": "execute_result"
    }
   ],
   "source": [
    "outlier_values.Class.value_counts()"
   ]
  },
  {
   "cell_type": "code",
   "execution_count": 24,
   "metadata": {},
   "outputs": [
    {
     "data": {
      "text/plain": [
       "Text(0.5, 1.0, 'Outlier Detection Using KNN ')"
      ]
     },
     "execution_count": 24,
     "metadata": {},
     "output_type": "execute_result"
    },
    {
     "data": {
      "image/png": "[encoded data removed]",
      "text/plain": [
       "<Figure size 720x576 with 1 Axes>"
      ]
     },
     "metadata": {
      "needs_background": "light"
     },
     "output_type": "display_data"
    }
   ],
   "source": [
    "# plot data\n",
    "plt.scatter(df[\"V1\"], df[\"V2\"], color = \"b\", s = 65)\n",
    "# plot outlier values\n",
    "plt.scatter(outlier_values[\"V1\"], outlier_values[\"V2\"], color = \"r\")\n",
    "plt.legend( [\"True Value\", \"Outliers\"])\n",
    "plt.title(\"Outlier Detection Using KNN \")"
   ]
  },
  {
   "cell_type": "code",
   "execution_count": 6,
   "metadata": {},
   "outputs": [],
   "source": [
    "from sklearn.ensemble import IsolationForest\n",
    "iso = IsolationForest(contamination=0.05)\n",
    "yhat = iso.fit_predict(data)"
   ]
  },
  {
   "cell_type": "code",
   "execution_count": 10,
   "metadata": {},
   "outputs": [],
   "source": [
    "mask = yhat != -1\n",
    "df_filterd_if= pd.DataFrame(data2[mask, :])"
   ]
  },
  {
   "cell_type": "code",
   "execution_count": 9,
   "metadata": {},
   "outputs": [],
   "source": [
    "data2=df.values"
   ]
  },
  {
   "cell_type": "code",
   "execution_count": 13,
   "metadata": {},
   "outputs": [],
   "source": [
    "mask = yhat == -1\n",
    "outlier_values_if=pd.DataFrame(data2[mask, :])"
   ]
  },
  {
   "cell_type": "code",
   "execution_count": 17,
   "metadata": {},
   "outputs": [
    {
     "data": {
      "text/plain": [
       "0.0    13820\n",
       "1.0      421\n",
       "Name: 30, dtype: int64"
      ]
     },
     "execution_count": 17,
     "metadata": {},
     "output_type": "execute_result"
    }
   ],
   "source": [
    "outlier_values_if[30].value_counts()"
   ]
  },
  {
   "cell_type": "code",
   "execution_count": 18,
   "metadata": {},
   "outputs": [
    {
     "data": {
      "text/plain": [
       "Text(0.5, 1.0, 'Outlier Detection Using ISOLATION FOREST')"
      ]
     },
     "execution_count": 18,
     "metadata": {},
     "output_type": "execute_result"
    },
    {
     "data": {
      "image/png": "[encoded data removed]",
      "text/plain": [
       "<Figure size 432x288 with 1 Axes>"
      ]
     },
     "metadata": {
      "needs_background": "light"
     },
     "output_type": "display_data"
    }
   ],
   "source": [
    "# plot data\n",
    "plt.scatter(df['V1'], df['V24'], color = \"b\", s = 65)\n",
    "# plot outlier values\n",
    "plt.scatter(outlier_values_if[1], outlier_values_if[24], color = \"r\")\n",
    "plt.legend( [\"True Value\", \"Outliers\"])\n",
    "plt.title(\"Outlier Detection Using ISOLATION FOREST\")"
   ]
  },
  {
   "cell_type": "code",
   "execution_count": 19,
   "metadata": {},
   "outputs": [
    {
     "data": {
      "text/plain": [
       "14241"
      ]
     },
     "execution_count": 19,
     "metadata": {},
     "output_type": "execute_result"
    }
   ],
   "source": [
    "len(outlier_values_if)"
   ]
  },
  {
   "cell_type": "code",
   "execution_count": 11,
   "metadata": {},
   "outputs": [
    {
     "data": {
      "text/plain": [
       "0.0    270483\n",
       "1.0        74\n",
       "Name: 30, dtype: int64"
      ]
     },
     "execution_count": 11,
     "metadata": {},
     "output_type": "execute_result"
    }
   ],
   "source": [
    "df_filterd_if[30].value_counts()"
   ]
  },
  {
   "cell_type": "code",
   "execution_count": 12,
   "metadata": {},
   "outputs": [],
   "source": [
    "from sklearn.svm import OneClassSVM\n",
    "from sklearn.model_selection import train_test_split\n",
    "from sklearn.preprocessing import StandardScaler\n",
    "from sklearn.decomposition import PCA"
   ]
  },
  {
   "cell_type": "code",
   "execution_count": 13,
   "metadata": {},
   "outputs": [],
   "source": [
    "x=df_filterd_if[df_filterd_if.columns.drop([0,30])].copy()\n",
    "y=df_filterd_if[30].copy()"
   ]
  },
  {
   "cell_type": "code",
   "execution_count": 14,
   "metadata": {},
   "outputs": [],
   "source": [
    "X_train, X_test, y_train, y_test = train_test_split(x, y, test_size=0.2, random_state=40)"
   ]
  },
  {
   "cell_type": "code",
   "execution_count": 15,
   "metadata": {},
   "outputs": [],
   "source": [
    "sc = StandardScaler()\n",
    "X_train = sc.fit_transform(X_train)\n",
    "X_test = sc.transform(X_test)"
   ]
  },
  {
   "cell_type": "code",
   "execution_count": 16,
   "metadata": {},
   "outputs": [],
   "source": [
    "pca = PCA()\n",
    "X_train = pca.fit_transform(X_train)\n",
    "X_test = pca.transform(X_test)"
   ]
  },
  {
   "cell_type": "code",
   "execution_count": 17,
   "metadata": {},
   "outputs": [
    {
     "data": {
      "text/plain": [
       "array([7.41947296e-02, 6.24785095e-02, 5.76010730e-02, 5.28531400e-02,\n",
       "       5.01091618e-02, 4.91112652e-02, 4.70741445e-02, 4.49593817e-02,\n",
       "       4.44608940e-02, 4.32987660e-02, 4.14367936e-02, 3.98401955e-02,\n",
       "       3.74913278e-02, 3.60796738e-02, 3.54224685e-02, 3.52441373e-02,\n",
       "       3.45528994e-02, 3.44437962e-02, 3.38031901e-02, 2.72009761e-02,\n",
       "       2.56226009e-02, 1.91514278e-02, 1.88395621e-02, 1.77033176e-02,\n",
       "       1.46119306e-02, 1.31998687e-02, 8.71935758e-03, 3.99947543e-04,\n",
       "       9.54634746e-05])"
      ]
     },
     "execution_count": 17,
     "metadata": {},
     "output_type": "execute_result"
    }
   ],
   "source": [
    "explained_variance = pca.explained_variance_ratio_\n",
    "explained_variance"
   ]
  },
  {
   "cell_type": "code",
   "execution_count": 18,
   "metadata": {},
   "outputs": [
    {
     "name": "stdout",
     "output_type": "stream",
     "text": [
      "0.07419472959749729    1\n",
      "0.13667323911907092    2\n",
      "0.19427431208390275    3\n",
      "0.2471274521266444    4\n",
      "0.2972366139044511    5\n",
      "0.3463478791172073    6\n",
      "0.39342202366680906    7\n",
      "0.43838140537204306    8\n",
      "0.48284229938565004    9\n",
      "0.5261410653807309    10\n",
      "0.5675778590190053    11\n",
      "0.607418054520283    12\n",
      "0.6449093823314618    13\n",
      "0.6809890560906282    14\n",
      "0.7164115245905478    15\n",
      "0.7516556618592958    16\n",
      "0.7862085613062036    17\n",
      "0.8206523575270634    18\n",
      "0.8544555476542636    19\n",
      "0.8816565238031634    20\n",
      "0.907279124720714    21\n",
      "0.9264305525190887    22\n",
      "0.9452701145780505    23\n",
      "0.9629734321404678    24\n",
      "0.9775853627101017    25\n",
      "0.990785231398306    26\n",
      "0.9995045889822324    27\n",
      "0.999904536525401    28\n",
      "0.9999999999999998    29\n"
     ]
    }
   ],
   "source": [
    "x=1\n",
    "var_sum=0\n",
    "for i in explained_variance:\n",
    "    var_sum=var_sum+i\n",
    "    print(var_sum,\"  \", x)\n",
    "    x=x+1"
   ]
  },
  {
   "cell_type": "code",
   "execution_count": 151,
   "metadata": {},
   "outputs": [],
   "source": [
    "pca = PCA(n_components=10)\n",
    "X_train = pca.fit_transform(X_train)\n",
    "X_test = pca.transform(X_test)"
   ]
  },
  {
   "cell_type": "markdown",
   "metadata": {},
   "source": [
    "# Simple SVM"
   ]
  },
  {
   "cell_type": "code",
   "execution_count": 25,
   "metadata": {},
   "outputs": [],
   "source": [
    "from sklearn.svm import SVC"
   ]
  },
  {
   "cell_type": "code",
   "execution_count": 166,
   "metadata": {},
   "outputs": [
    {
     "data": {
      "text/plain": [
       "SVC(C=1.0, break_ties=False, cache_size=200, class_weight=None, coef0=0.0,\n",
       "    decision_function_shape='ovr', degree=3, gamma='scale', kernel='rbf',\n",
       "    max_iter=-1, probability=False, random_state=None, shrinking=True,\n",
       "    tol=0.001, verbose=False)"
      ]
     },
     "execution_count": 166,
     "metadata": {},
     "output_type": "execute_result"
    }
   ],
   "source": [
    "model = SVC()\n",
    "model.fit(X_train, y_train)"
   ]
  },
  {
   "cell_type": "code",
   "execution_count": 167,
   "metadata": {},
   "outputs": [],
   "source": [
    "yhat = model.predict(X_test)"
   ]
  },
  {
   "cell_type": "code",
   "execution_count": 168,
   "metadata": {},
   "outputs": [],
   "source": [
    "preds=pd.DataFrame()"
   ]
  },
  {
   "cell_type": "code",
   "execution_count": 169,
   "metadata": {},
   "outputs": [],
   "source": [
    "preds['true']=np.array(y_test)\n",
    "preds['pred']=np.array(yhat)"
   ]
  },
  {
   "cell_type": "code",
   "execution_count": 170,
   "metadata": {},
   "outputs": [
    {
     "name": "stdout",
     "output_type": "stream",
     "text": [
      "Ytrain : 54114\n",
      "Yhat: 54114\n"
     ]
    }
   ],
   "source": [
    "print(\"Ytrain :\" ,len(y_test))\n",
    "print('Yhat:',len(yhat))"
   ]
  },
  {
   "cell_type": "code",
   "execution_count": 171,
   "metadata": {},
   "outputs": [
    {
     "data": {
      "text/plain": [
       "0.0    54112\n",
       "1.0        2\n",
       "Name: pred, dtype: int64"
      ]
     },
     "execution_count": 171,
     "metadata": {},
     "output_type": "execute_result"
    }
   ],
   "source": [
    "preds.pred.value_counts()"
   ]
  },
  {
   "cell_type": "code",
   "execution_count": 175,
   "metadata": {},
   "outputs": [
    {
     "data": {
      "text/plain": [
       "54112"
      ]
     },
     "execution_count": 175,
     "metadata": {},
     "output_type": "execute_result"
    }
   ],
   "source": [
    "len(preds[preds['pred']==0])"
   ]
  },
  {
   "cell_type": "markdown",
   "metadata": {},
   "source": [
    "# One Class SVM"
   ]
  },
  {
   "cell_type": "code",
   "execution_count": 177,
   "metadata": {},
   "outputs": [],
   "source": [
    "x=df_filterd_if[df_filterd_if.columns.drop([0,30])].copy()"
   ]
  },
  {
   "cell_type": "code",
   "execution_count": 179,
   "metadata": {},
   "outputs": [],
   "source": [
    "model = OneClassSVM(kernel = 'rbf', gamma = 0.001, nu = 0.02).fit(x)"
   ]
  },
  {
   "cell_type": "code",
   "execution_count": 199,
   "metadata": {},
   "outputs": [
    {
     "data": {
      "text/plain": [
       "array([ 1,  1, -1, ...,  1,  1,  1], dtype=int64)"
      ]
     },
     "execution_count": 199,
     "metadata": {},
     "output_type": "execute_result"
    }
   ],
   "source": [
    "y_pred = model.fit_predict(x)\n",
    "y_pred"
   ]
  },
  {
   "cell_type": "code",
   "execution_count": 200,
   "metadata": {},
   "outputs": [],
   "source": [
    "scores = model.score_samples(x)"
   ]
  },
  {
   "cell_type": "code",
   "execution_count": 201,
   "metadata": {},
   "outputs": [
    {
     "name": "stdout",
     "output_type": "stream",
     "text": [
      "428.63346558898326\n"
     ]
    }
   ],
   "source": [
    "thresh = np.quantile(scores, 0.03)\n",
    "print(thresh)"
   ]
  },
  {
   "cell_type": "code",
   "execution_count": 196,
   "metadata": {},
   "outputs": [],
   "source": [
    "index = np.where(scores<=thresh)\n",
    "values = df_filterd_if.iloc[index]"
   ]
  },
  {
   "cell_type": "code",
   "execution_count": 198,
   "metadata": {},
   "outputs": [
    {
     "name": "stdout",
     "output_type": "stream",
     "text": [
      "30\n",
      "0.0    8102\n",
      "1.0      15\n",
      "Name: 1, dtype: int64\n"
     ]
    }
   ],
   "source": [
    "print(values.groupby(30)[1].count())"
   ]
  },
  {
   "cell_type": "code",
   "execution_count": 182,
   "metadata": {},
   "outputs": [
    {
     "data": {
      "text/html": [
       "<div>\n",
       "<style scoped>\n",
       "    .dataframe tbody tr th:only-of-type {\n",
       "        vertical-align: middle;\n",
       "    }\n",
       "\n",
       "    .dataframe tbody tr th {\n",
       "        vertical-align: top;\n",
       "    }\n",
       "\n",
       "    .dataframe thead th {\n",
       "        text-align: right;\n",
       "    }\n",
       "</style>\n",
       "<table border=\"1\" class=\"dataframe\">\n",
       "  <thead>\n",
       "    <tr style=\"text-align: right;\">\n",
       "      <th></th>\n",
       "      <th>0</th>\n",
       "      <th>1</th>\n",
       "      <th>2</th>\n",
       "      <th>3</th>\n",
       "      <th>4</th>\n",
       "      <th>5</th>\n",
       "      <th>6</th>\n",
       "      <th>7</th>\n",
       "      <th>8</th>\n",
       "      <th>9</th>\n",
       "      <th>...</th>\n",
       "      <th>21</th>\n",
       "      <th>22</th>\n",
       "      <th>23</th>\n",
       "      <th>24</th>\n",
       "      <th>25</th>\n",
       "      <th>26</th>\n",
       "      <th>27</th>\n",
       "      <th>28</th>\n",
       "      <th>29</th>\n",
       "      <th>30</th>\n",
       "    </tr>\n",
       "  </thead>\n",
       "  <tbody>\n",
       "    <tr>\n",
       "      <th>2</th>\n",
       "      <td>1.0</td>\n",
       "      <td>-1.358354</td>\n",
       "      <td>-1.340163</td>\n",
       "      <td>1.773209</td>\n",
       "      <td>0.379780</td>\n",
       "      <td>-0.503198</td>\n",
       "      <td>1.800499</td>\n",
       "      <td>0.791461</td>\n",
       "      <td>0.247676</td>\n",
       "      <td>-1.514654</td>\n",
       "      <td>...</td>\n",
       "      <td>0.247998</td>\n",
       "      <td>0.771679</td>\n",
       "      <td>0.909412</td>\n",
       "      <td>-0.689281</td>\n",
       "      <td>-0.327642</td>\n",
       "      <td>-0.139097</td>\n",
       "      <td>-0.055353</td>\n",
       "      <td>-0.059752</td>\n",
       "      <td>378.66</td>\n",
       "      <td>0.0</td>\n",
       "    </tr>\n",
       "    <tr>\n",
       "      <th>18</th>\n",
       "      <td>14.0</td>\n",
       "      <td>-5.401258</td>\n",
       "      <td>-5.450148</td>\n",
       "      <td>1.186305</td>\n",
       "      <td>1.736239</td>\n",
       "      <td>3.049106</td>\n",
       "      <td>-1.763406</td>\n",
       "      <td>-1.559738</td>\n",
       "      <td>0.160842</td>\n",
       "      <td>1.233090</td>\n",
       "      <td>...</td>\n",
       "      <td>-0.503600</td>\n",
       "      <td>0.984460</td>\n",
       "      <td>2.458589</td>\n",
       "      <td>0.042119</td>\n",
       "      <td>-0.481631</td>\n",
       "      <td>-0.621272</td>\n",
       "      <td>0.392053</td>\n",
       "      <td>0.949594</td>\n",
       "      <td>46.80</td>\n",
       "      <td>0.0</td>\n",
       "    </tr>\n",
       "    <tr>\n",
       "      <th>85</th>\n",
       "      <td>59.0</td>\n",
       "      <td>-0.773293</td>\n",
       "      <td>-4.146007</td>\n",
       "      <td>-0.932038</td>\n",
       "      <td>0.027094</td>\n",
       "      <td>-1.698307</td>\n",
       "      <td>0.460188</td>\n",
       "      <td>0.737344</td>\n",
       "      <td>-0.314216</td>\n",
       "      <td>-0.842673</td>\n",
       "      <td>...</td>\n",
       "      <td>0.890978</td>\n",
       "      <td>0.026123</td>\n",
       "      <td>-1.134769</td>\n",
       "      <td>-0.654958</td>\n",
       "      <td>0.098386</td>\n",
       "      <td>-0.209150</td>\n",
       "      <td>-0.171709</td>\n",
       "      <td>0.208057</td>\n",
       "      <td>1142.02</td>\n",
       "      <td>0.0</td>\n",
       "    </tr>\n",
       "    <tr>\n",
       "      <th>152</th>\n",
       "      <td>100.0</td>\n",
       "      <td>-0.378602</td>\n",
       "      <td>0.274579</td>\n",
       "      <td>-0.129488</td>\n",
       "      <td>-2.682799</td>\n",
       "      <td>-0.731375</td>\n",
       "      <td>-0.226354</td>\n",
       "      <td>-0.006949</td>\n",
       "      <td>-2.778983</td>\n",
       "      <td>-0.233232</td>\n",
       "      <td>...</td>\n",
       "      <td>1.426146</td>\n",
       "      <td>-2.776923</td>\n",
       "      <td>-0.466756</td>\n",
       "      <td>-0.714697</td>\n",
       "      <td>1.136720</td>\n",
       "      <td>-0.981993</td>\n",
       "      <td>0.356781</td>\n",
       "      <td>0.148444</td>\n",
       "      <td>182.95</td>\n",
       "      <td>0.0</td>\n",
       "    </tr>\n",
       "    <tr>\n",
       "      <th>199</th>\n",
       "      <td>140.0</td>\n",
       "      <td>-4.636534</td>\n",
       "      <td>-5.931717</td>\n",
       "      <td>-0.227301</td>\n",
       "      <td>-2.737271</td>\n",
       "      <td>7.672544</td>\n",
       "      <td>-0.996355</td>\n",
       "      <td>-3.391184</td>\n",
       "      <td>1.236267</td>\n",
       "      <td>1.129462</td>\n",
       "      <td>...</td>\n",
       "      <td>0.655844</td>\n",
       "      <td>-0.047158</td>\n",
       "      <td>0.869558</td>\n",
       "      <td>1.020755</td>\n",
       "      <td>0.706125</td>\n",
       "      <td>-0.207096</td>\n",
       "      <td>-0.167680</td>\n",
       "      <td>0.217685</td>\n",
       "      <td>65.00</td>\n",
       "      <td>0.0</td>\n",
       "    </tr>\n",
       "    <tr>\n",
       "      <th>...</th>\n",
       "      <td>...</td>\n",
       "      <td>...</td>\n",
       "      <td>...</td>\n",
       "      <td>...</td>\n",
       "      <td>...</td>\n",
       "      <td>...</td>\n",
       "      <td>...</td>\n",
       "      <td>...</td>\n",
       "      <td>...</td>\n",
       "      <td>...</td>\n",
       "      <td>...</td>\n",
       "      <td>...</td>\n",
       "      <td>...</td>\n",
       "      <td>...</td>\n",
       "      <td>...</td>\n",
       "      <td>...</td>\n",
       "      <td>...</td>\n",
       "      <td>...</td>\n",
       "      <td>...</td>\n",
       "      <td>...</td>\n",
       "      <td>...</td>\n",
       "    </tr>\n",
       "    <tr>\n",
       "      <th>270197</th>\n",
       "      <td>172422.0</td>\n",
       "      <td>1.134958</td>\n",
       "      <td>-3.165261</td>\n",
       "      <td>-3.303764</td>\n",
       "      <td>-1.192681</td>\n",
       "      <td>-0.869890</td>\n",
       "      <td>-1.112794</td>\n",
       "      <td>0.744975</td>\n",
       "      <td>-0.646199</td>\n",
       "      <td>-2.181248</td>\n",
       "      <td>...</td>\n",
       "      <td>0.514643</td>\n",
       "      <td>0.455557</td>\n",
       "      <td>-0.776032</td>\n",
       "      <td>-0.440389</td>\n",
       "      <td>0.396356</td>\n",
       "      <td>0.247182</td>\n",
       "      <td>-0.207241</td>\n",
       "      <td>0.007318</td>\n",
       "      <td>665.70</td>\n",
       "      <td>0.0</td>\n",
       "    </tr>\n",
       "    <tr>\n",
       "      <th>270310</th>\n",
       "      <td>172539.0</td>\n",
       "      <td>-5.823560</td>\n",
       "      <td>0.333130</td>\n",
       "      <td>-0.732746</td>\n",
       "      <td>0.770116</td>\n",
       "      <td>-3.785871</td>\n",
       "      <td>2.124706</td>\n",
       "      <td>-2.272833</td>\n",
       "      <td>2.896201</td>\n",
       "      <td>0.552732</td>\n",
       "      <td>...</td>\n",
       "      <td>-0.384073</td>\n",
       "      <td>-0.204040</td>\n",
       "      <td>-1.113031</td>\n",
       "      <td>0.258388</td>\n",
       "      <td>0.732836</td>\n",
       "      <td>-0.231069</td>\n",
       "      <td>-0.049823</td>\n",
       "      <td>-0.019875</td>\n",
       "      <td>150.00</td>\n",
       "      <td>0.0</td>\n",
       "    </tr>\n",
       "    <tr>\n",
       "      <th>270345</th>\n",
       "      <td>172569.0</td>\n",
       "      <td>-1.762664</td>\n",
       "      <td>-1.230888</td>\n",
       "      <td>-0.587727</td>\n",
       "      <td>-1.898574</td>\n",
       "      <td>-2.611232</td>\n",
       "      <td>1.301447</td>\n",
       "      <td>3.645126</td>\n",
       "      <td>-0.911945</td>\n",
       "      <td>1.133300</td>\n",
       "      <td>...</td>\n",
       "      <td>-0.526145</td>\n",
       "      <td>-0.121367</td>\n",
       "      <td>0.631407</td>\n",
       "      <td>-0.416585</td>\n",
       "      <td>-1.338263</td>\n",
       "      <td>0.006724</td>\n",
       "      <td>-0.084768</td>\n",
       "      <td>0.308717</td>\n",
       "      <td>724.00</td>\n",
       "      <td>0.0</td>\n",
       "    </tr>\n",
       "    <tr>\n",
       "      <th>270376</th>\n",
       "      <td>172595.0</td>\n",
       "      <td>-3.881978</td>\n",
       "      <td>-2.408392</td>\n",
       "      <td>-1.458041</td>\n",
       "      <td>0.432474</td>\n",
       "      <td>2.792532</td>\n",
       "      <td>-1.509535</td>\n",
       "      <td>1.160473</td>\n",
       "      <td>-1.875000</td>\n",
       "      <td>-0.062457</td>\n",
       "      <td>...</td>\n",
       "      <td>0.233649</td>\n",
       "      <td>1.194132</td>\n",
       "      <td>0.040907</td>\n",
       "      <td>0.934926</td>\n",
       "      <td>0.772672</td>\n",
       "      <td>0.654286</td>\n",
       "      <td>0.600326</td>\n",
       "      <td>-0.355366</td>\n",
       "      <td>229.00</td>\n",
       "      <td>0.0</td>\n",
       "    </tr>\n",
       "    <tr>\n",
       "      <th>270495</th>\n",
       "      <td>172721.0</td>\n",
       "      <td>1.076175</td>\n",
       "      <td>-3.116353</td>\n",
       "      <td>-2.051439</td>\n",
       "      <td>-0.953189</td>\n",
       "      <td>-1.544838</td>\n",
       "      <td>-1.124645</td>\n",
       "      <td>0.385570</td>\n",
       "      <td>-0.698014</td>\n",
       "      <td>-1.829401</td>\n",
       "      <td>...</td>\n",
       "      <td>0.104853</td>\n",
       "      <td>-0.598243</td>\n",
       "      <td>-0.343164</td>\n",
       "      <td>0.088299</td>\n",
       "      <td>-0.267658</td>\n",
       "      <td>-0.313651</td>\n",
       "      <td>-0.132091</td>\n",
       "      <td>0.056029</td>\n",
       "      <td>664.60</td>\n",
       "      <td>0.0</td>\n",
       "    </tr>\n",
       "  </tbody>\n",
       "</table>\n",
       "<p>8104 rows × 31 columns</p>\n",
       "</div>"
      ],
      "text/plain": [
       "              0         1         2         3         4         5         6   \\\n",
       "2            1.0 -1.358354 -1.340163  1.773209  0.379780 -0.503198  1.800499   \n",
       "18          14.0 -5.401258 -5.450148  1.186305  1.736239  3.049106 -1.763406   \n",
       "85          59.0 -0.773293 -4.146007 -0.932038  0.027094 -1.698307  0.460188   \n",
       "152        100.0 -0.378602  0.274579 -0.129488 -2.682799 -0.731375 -0.226354   \n",
       "199        140.0 -4.636534 -5.931717 -0.227301 -2.737271  7.672544 -0.996355   \n",
       "...          ...       ...       ...       ...       ...       ...       ...   \n",
       "270197  172422.0  1.134958 -3.165261 -3.303764 -1.192681 -0.869890 -1.112794   \n",
       "270310  172539.0 -5.823560  0.333130 -0.732746  0.770116 -3.785871  2.124706   \n",
       "270345  172569.0 -1.762664 -1.230888 -0.587727 -1.898574 -2.611232  1.301447   \n",
       "270376  172595.0 -3.881978 -2.408392 -1.458041  0.432474  2.792532 -1.509535   \n",
       "270495  172721.0  1.076175 -3.116353 -2.051439 -0.953189 -1.544838 -1.124645   \n",
       "\n",
       "              7         8         9   ...        21        22        23  \\\n",
       "2       0.791461  0.247676 -1.514654  ...  0.247998  0.771679  0.909412   \n",
       "18     -1.559738  0.160842  1.233090  ... -0.503600  0.984460  2.458589   \n",
       "85      0.737344 -0.314216 -0.842673  ...  0.890978  0.026123 -1.134769   \n",
       "152    -0.006949 -2.778983 -0.233232  ...  1.426146 -2.776923 -0.466756   \n",
       "199    -3.391184  1.236267  1.129462  ...  0.655844 -0.047158  0.869558   \n",
       "...          ...       ...       ...  ...       ...       ...       ...   \n",
       "270197  0.744975 -0.646199 -2.181248  ...  0.514643  0.455557 -0.776032   \n",
       "270310 -2.272833  2.896201  0.552732  ... -0.384073 -0.204040 -1.113031   \n",
       "270345  3.645126 -0.911945  1.133300  ... -0.526145 -0.121367  0.631407   \n",
       "270376  1.160473 -1.875000 -0.062457  ...  0.233649  1.194132  0.040907   \n",
       "270495  0.385570 -0.698014 -1.829401  ...  0.104853 -0.598243 -0.343164   \n",
       "\n",
       "              24        25        26        27        28       29   30  \n",
       "2      -0.689281 -0.327642 -0.139097 -0.055353 -0.059752   378.66  0.0  \n",
       "18      0.042119 -0.481631 -0.621272  0.392053  0.949594    46.80  0.0  \n",
       "85     -0.654958  0.098386 -0.209150 -0.171709  0.208057  1142.02  0.0  \n",
       "152    -0.714697  1.136720 -0.981993  0.356781  0.148444   182.95  0.0  \n",
       "199     1.020755  0.706125 -0.207096 -0.167680  0.217685    65.00  0.0  \n",
       "...          ...       ...       ...       ...       ...      ...  ...  \n",
       "270197 -0.440389  0.396356  0.247182 -0.207241  0.007318   665.70  0.0  \n",
       "270310  0.258388  0.732836 -0.231069 -0.049823 -0.019875   150.00  0.0  \n",
       "270345 -0.416585 -1.338263  0.006724 -0.084768  0.308717   724.00  0.0  \n",
       "270376  0.934926  0.772672  0.654286  0.600326 -0.355366   229.00  0.0  \n",
       "270495  0.088299 -0.267658 -0.313651 -0.132091  0.056029   664.60  0.0  \n",
       "\n",
       "[8104 rows x 31 columns]"
      ]
     },
     "execution_count": 182,
     "metadata": {},
     "output_type": "execute_result"
    }
   ],
   "source": [
    "# filter outlier index\n",
    "outlier_index = np.where(y_pred == -1) \n",
    "# filter outlier values\n",
    "outlier_values = df_filterd_if.iloc[outlier_index]\n",
    "outlier_values"
   ]
  },
  {
   "cell_type": "code",
   "execution_count": 186,
   "metadata": {},
   "outputs": [
    {
     "name": "stderr",
     "output_type": "stream",
     "text": [
      "C:\\ProgramData\\Anaconda3\\lib\\site-packages\\ipykernel_launcher.py:1: SettingWithCopyWarning: \n",
      "A value is trying to be set on a copy of a slice from a DataFrame.\n",
      "Try using .loc[row_indexer,col_indexer] = value instead\n",
      "\n",
      "See the caveats in the documentation: https://pandas.pydata.org/pandas-docs/stable/user_guide/indexing.html#returning-a-view-versus-a-copy\n",
      "  \"\"\"Entry point for launching an IPython kernel.\n"
     ]
    }
   ],
   "source": [
    "outlier_values[30] = (pd.to_numeric(outlier_values[30],downcast='integer'))"
   ]
  },
  {
   "cell_type": "code",
   "execution_count": 189,
   "metadata": {},
   "outputs": [
    {
     "name": "stdout",
     "output_type": "stream",
     "text": [
      "30\n",
      "0    8089\n",
      "1      15\n",
      "Name: 1, dtype: int64\n"
     ]
    }
   ],
   "source": [
    "print(outlier_values.groupby(30)[1].count())"
   ]
  },
  {
   "cell_type": "code",
   "execution_count": 202,
   "metadata": {},
   "outputs": [],
   "source": [
    "z=outlier_values[outlier_values[30]==1.0]"
   ]
  },
  {
   "cell_type": "code",
   "execution_count": 204,
   "metadata": {},
   "outputs": [
    {
     "data": {
      "text/plain": [
       "<matplotlib.collections.PathCollection at 0x26342fa5f08>"
      ]
     },
     "execution_count": 204,
     "metadata": {},
     "output_type": "execute_result"
    },
    {
     "data": {
      "image/png": "[encoded data removed]",
      "text/plain": [
       "<Figure size 720x576 with 1 Axes>"
      ]
     },
     "metadata": {
      "needs_background": "light"
     },
     "output_type": "display_data"
    }
   ],
   "source": [
    "# visualize outputs\n",
    "plt.scatter(x[2], x[5])\n",
    "plt.scatter(z[2], z[5], c = \"r\")"
   ]
  },
  {
   "cell_type": "markdown",
   "metadata": {},
   "source": [
    "# Process A"
   ]
  },
  {
   "cell_type": "code",
   "execution_count": null,
   "metadata": {},
   "outputs": [],
   "source": [
    "df_filterd_if"
   ]
  },
  {
   "cell_type": "code",
   "execution_count": 19,
   "metadata": {},
   "outputs": [],
   "source": [
    "from sklearn import metrics"
   ]
  },
  {
   "cell_type": "code",
   "execution_count": 20,
   "metadata": {},
   "outputs": [],
   "source": [
    "x=df_filterd_if[df_filterd_if.columns.drop([0,30])].copy()\n",
    "y=df_filterd_if[30].copy()"
   ]
  },
  {
   "cell_type": "code",
   "execution_count": 21,
   "metadata": {},
   "outputs": [],
   "source": [
    "X_train, X_test, y_train, y_test = train_test_split(x, y, test_size=0.2, random_state=40)"
   ]
  },
  {
   "cell_type": "code",
   "execution_count": 22,
   "metadata": {},
   "outputs": [],
   "source": [
    "sc = StandardScaler()\n",
    "X_train = sc.fit_transform(X_train)\n",
    "X_test = sc.transform(X_test)"
   ]
  },
  {
   "cell_type": "code",
   "execution_count": 23,
   "metadata": {},
   "outputs": [],
   "source": [
    "pca = PCA(n_components=20)\n",
    "X_train = pca.fit_transform(X_train)\n",
    "X_test = pca.transform(X_test)"
   ]
  },
  {
   "cell_type": "code",
   "execution_count": 26,
   "metadata": {},
   "outputs": [
    {
     "data": {
      "text/plain": [
       "SVC(C=1.0, break_ties=False, cache_size=200, class_weight=None, coef0=0.0,\n",
       "    decision_function_shape='ovr', degree=3, gamma='scale', kernel='rbf',\n",
       "    max_iter=-1, probability=False, random_state=None, shrinking=True,\n",
       "    tol=0.001, verbose=False)"
      ]
     },
     "execution_count": 26,
     "metadata": {},
     "output_type": "execute_result"
    }
   ],
   "source": [
    "model = SVC()\n",
    "model.fit(X_train, y_train)"
   ]
  },
  {
   "cell_type": "code",
   "execution_count": 28,
   "metadata": {},
   "outputs": [],
   "source": [
    "yhat = model.predict(X_test)"
   ]
  },
  {
   "cell_type": "code",
   "execution_count": 87,
   "metadata": {},
   "outputs": [],
   "source": [
    "preds=pd.DataFrame()"
   ]
  },
  {
   "cell_type": "code",
   "execution_count": 88,
   "metadata": {},
   "outputs": [],
   "source": [
    "preds['true']=np.array(y_test)\n",
    "preds['pred']=np.array(yhat)"
   ]
  },
  {
   "cell_type": "code",
   "execution_count": 42,
   "metadata": {},
   "outputs": [
    {
     "data": {
      "text/plain": [
       "0.0    54102\n",
       "1.0       12\n",
       "Name: 30, dtype: int64"
      ]
     },
     "execution_count": 42,
     "metadata": {},
     "output_type": "execute_result"
    }
   ],
   "source": [
    "len(y_test)\n",
    "y_test.value_counts()"
   ]
  },
  {
   "cell_type": "code",
   "execution_count": null,
   "metadata": {},
   "outputs": [],
   "source": [
    "preds[(preds.true==1) & (preds.pred==0)]"
   ]
  },
  {
   "cell_type": "code",
   "execution_count": 48,
   "metadata": {},
   "outputs": [
    {
     "data": {
      "text/plain": [
       "54102"
      ]
     },
     "execution_count": 48,
     "metadata": {},
     "output_type": "execute_result"
    }
   ],
   "source": [
    "len(preds[(preds.true==0) & (preds.pred==0)])"
   ]
  },
  {
   "cell_type": "code",
   "execution_count": 212,
   "metadata": {},
   "outputs": [
    {
     "name": "stdout",
     "output_type": "stream",
     "text": [
      "Accuracy: 0.9997782459252689\n"
     ]
    }
   ],
   "source": [
    "print(\"Accuracy:\",metrics.accuracy_score(y_test, yhat))"
   ]
  },
  {
   "cell_type": "code",
   "execution_count": 51,
   "metadata": {},
   "outputs": [],
   "source": [
    "from sklearn.metrics import confusion_matrix"
   ]
  },
  {
   "cell_type": "code",
   "execution_count": 54,
   "metadata": {},
   "outputs": [],
   "source": [
    "def print_confusion_matrix(y_true, y_pred):\n",
    "    cm = confusion_matrix(y_true, y_pred)\n",
    "    print('True positive = ', cm[1][1])\n",
    "    print('False positive = ', cm[0][1])\n",
    "    print('False negative = ', cm[1][0])\n",
    "    print('True negative = ', cm[0][0])"
   ]
  },
  {
   "cell_type": "code",
   "execution_count": 89,
   "metadata": {},
   "outputs": [
    {
     "name": "stdout",
     "output_type": "stream",
     "text": [
      "True positive =  1\n",
      "False positive =  0\n",
      "False negative =  11\n",
      "True negative =  54102\n"
     ]
    }
   ],
   "source": [
    "print_confusion_matrix(preds['true'],preds['pred'])"
   ]
  },
  {
   "cell_type": "markdown",
   "metadata": {},
   "source": [
    "# Process B"
   ]
  },
  {
   "cell_type": "code",
   "execution_count": 214,
   "metadata": {},
   "outputs": [
    {
     "data": {
      "text/plain": [
       "Index(['Time', 'V1', 'V2', 'V3', 'V4', 'V5', 'V6', 'V7', 'V8', 'V9', 'V10',\n",
       "       'V11', 'V12', 'V13', 'V14', 'V15', 'V16', 'V17', 'V18', 'V19', 'V20',\n",
       "       'V21', 'V22', 'V23', 'V24', 'V25', 'V26', 'V27', 'V28', 'Amount',\n",
       "       'Class'],\n",
       "      dtype='object')"
      ]
     },
     "execution_count": 214,
     "metadata": {},
     "output_type": "execute_result"
    }
   ],
   "source": [
    "df.columns"
   ]
  },
  {
   "cell_type": "code",
   "execution_count": 56,
   "metadata": {},
   "outputs": [],
   "source": [
    "x=df[df.columns.drop(['Time','Class'])].copy()\n",
    "y=df['Class'].copy()"
   ]
  },
  {
   "cell_type": "code",
   "execution_count": 57,
   "metadata": {},
   "outputs": [],
   "source": [
    "X_train, X_test, y_train, y_test = train_test_split(x, y, test_size=0.2, random_state=40)\n",
    "sc = StandardScaler()\n",
    "X_train = sc.fit_transform(X_train)\n",
    "X_test = sc.transform(X_test)"
   ]
  },
  {
   "cell_type": "code",
   "execution_count": 58,
   "metadata": {},
   "outputs": [
    {
     "data": {
      "text/plain": [
       "SVC(C=1.0, break_ties=False, cache_size=200, class_weight=None, coef0=0.0,\n",
       "    decision_function_shape='ovr', degree=3, gamma='scale', kernel='rbf',\n",
       "    max_iter=-1, probability=False, random_state=None, shrinking=True,\n",
       "    tol=0.001, verbose=False)"
      ]
     },
     "execution_count": 58,
     "metadata": {},
     "output_type": "execute_result"
    }
   ],
   "source": [
    "model = SVC()\n",
    "model.fit(X_train, y_train)"
   ]
  },
  {
   "cell_type": "code",
   "execution_count": 59,
   "metadata": {},
   "outputs": [],
   "source": [
    "yhat = model.predict(X_test)"
   ]
  },
  {
   "cell_type": "code",
   "execution_count": 61,
   "metadata": {},
   "outputs": [
    {
     "data": {
      "text/plain": [
       "56962"
      ]
     },
     "execution_count": 61,
     "metadata": {},
     "output_type": "execute_result"
    }
   ],
   "source": [
    "len(y_test)"
   ]
  },
  {
   "cell_type": "code",
   "execution_count": 60,
   "metadata": {},
   "outputs": [
    {
     "data": {
      "text/plain": [
       "0    56865\n",
       "1       97\n",
       "Name: Class, dtype: int64"
      ]
     },
     "execution_count": 60,
     "metadata": {},
     "output_type": "execute_result"
    }
   ],
   "source": [
    "len(y_test)\n",
    "y_test.value_counts()"
   ]
  },
  {
   "cell_type": "code",
   "execution_count": 62,
   "metadata": {},
   "outputs": [],
   "source": [
    "preds=pd.DataFrame()"
   ]
  },
  {
   "cell_type": "code",
   "execution_count": 63,
   "metadata": {},
   "outputs": [],
   "source": [
    "preds['true']=np.array(y_test)\n",
    "preds['pred']=np.array(yhat)"
   ]
  },
  {
   "cell_type": "code",
   "execution_count": 64,
   "metadata": {},
   "outputs": [
    {
     "name": "stdout",
     "output_type": "stream",
     "text": [
      "True positive =  72\n",
      "False positive =  1\n",
      "False negative =  25\n",
      "True negative =  56864\n"
     ]
    }
   ],
   "source": [
    "print_confusion_matrix(preds['true'],preds['pred'])"
   ]
  },
  {
   "cell_type": "code",
   "execution_count": 220,
   "metadata": {},
   "outputs": [
    {
     "name": "stdout",
     "output_type": "stream",
     "text": [
      "Accuracy: 0.9995435553526912\n"
     ]
    }
   ],
   "source": [
    "print(\"Accuracy:\",metrics.accuracy_score(y_test, yhat))"
   ]
  },
  {
   "cell_type": "markdown",
   "metadata": {},
   "source": [
    "# PROCESS C"
   ]
  },
  {
   "cell_type": "code",
   "execution_count": null,
   "metadata": {},
   "outputs": [],
   "source": [
    "df_filterd_if\n"
   ]
  },
  {
   "cell_type": "code",
   "execution_count": 65,
   "metadata": {},
   "outputs": [],
   "source": [
    "x=df_filterd_if[df_filterd_if.columns.drop([0,30])].copy()\n",
    "y=df_filterd_if[30].copy()"
   ]
  },
  {
   "cell_type": "code",
   "execution_count": 66,
   "metadata": {},
   "outputs": [],
   "source": [
    "X_train, X_test, y_train, y_test = train_test_split(x, y, test_size=0.2, random_state=40)"
   ]
  },
  {
   "cell_type": "code",
   "execution_count": 67,
   "metadata": {},
   "outputs": [],
   "source": [
    "sc = StandardScaler()\n",
    "X_train = sc.fit_transform(X_train)\n",
    "X_test = sc.transform(X_test)"
   ]
  },
  {
   "cell_type": "code",
   "execution_count": 68,
   "metadata": {},
   "outputs": [
    {
     "data": {
      "text/plain": [
       "SVC(C=1.0, break_ties=False, cache_size=200, class_weight=None, coef0=0.0,\n",
       "    decision_function_shape='ovr', degree=3, gamma='scale', kernel='rbf',\n",
       "    max_iter=-1, probability=False, random_state=None, shrinking=True,\n",
       "    tol=0.001, verbose=False)"
      ]
     },
     "execution_count": 68,
     "metadata": {},
     "output_type": "execute_result"
    }
   ],
   "source": [
    "model = SVC()\n",
    "model.fit(X_train, y_train)"
   ]
  },
  {
   "cell_type": "code",
   "execution_count": 27,
   "metadata": {},
   "outputs": [],
   "source": [
    "yhat = model.predict(X_test)"
   ]
  },
  {
   "cell_type": "code",
   "execution_count": 70,
   "metadata": {},
   "outputs": [],
   "source": [
    "preds=pd.DataFrame()\n",
    "preds['true']=np.array(y_test)\n",
    "preds['pred']=np.array(yhat)"
   ]
  },
  {
   "cell_type": "code",
   "execution_count": 71,
   "metadata": {},
   "outputs": [
    {
     "name": "stdout",
     "output_type": "stream",
     "text": [
      "True positive =  1\n",
      "False positive =  0\n",
      "False negative =  11\n",
      "True negative =  54102\n"
     ]
    }
   ],
   "source": [
    "print_confusion_matrix(preds['true'],preds['pred'])"
   ]
  },
  {
   "cell_type": "code",
   "execution_count": 90,
   "metadata": {},
   "outputs": [
    {
     "data": {
      "text/plain": [
       "0.0    54102\n",
       "1.0       12\n",
       "Name: 30, dtype: int64"
      ]
     },
     "execution_count": 90,
     "metadata": {},
     "output_type": "execute_result"
    }
   ],
   "source": [
    "len(y_test)\n",
    "y_test.value_counts()"
   ]
  },
  {
   "cell_type": "code",
   "execution_count": null,
   "metadata": {},
   "outputs": [],
   "source": []
  }
 ],
 "metadata": {
  "kernelspec": {
   "display_name": "Python 3",
   "language": "python",
   "name": "python3"
  },
  "language_info": {
   "codemirror_mode": {
    "name": "ipython",
    "version": 3
   },
   "file_extension": ".py",
   "mimetype": "text/x-python",
   "name": "python",
   "nbconvert_exporter": "python",
   "pygments_lexer": "ipython3",
   "version": "3.7.6"
  }
 },
 "nbformat": 4,
 "nbformat_minor": 4
}
