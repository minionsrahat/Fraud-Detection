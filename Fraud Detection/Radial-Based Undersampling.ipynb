{
 "cells": [
  {
   "cell_type": "code",
   "execution_count": 1,
   "metadata": {},
   "outputs": [],
   "source": [
    "import logging\n",
    "from sklearn import metrics\n",
    "import multiprocessing as mp\n",
    "from collections import Counter\n",
    "import cv2 \n",
    "# from databases import pull_pending, submit_result\n",
    "# from datasets import load\n",
    "from imblearn.combine import SMOTEENN, SMOTETomek\n",
    "from imblearn.over_sampling import RandomOverSampler as ROS\n",
    "from imblearn.over_sampling import SMOTE\n",
    "from imblearn.under_sampling import AllKNN as AKNN\n",
    "from imblearn.under_sampling import ClusterCentroids as CC\n",
    "from imblearn.under_sampling import CondensedNearestNeighbour as CNN\n",
    "from imblearn.under_sampling import EditedNearestNeighbours as ENN\n",
    "from imblearn.under_sampling import InstanceHardnessThreshold as IHT\n",
    "from imblearn.under_sampling import RepeatedEditedNearestNeighbours as RENN\n",
    "from imblearn.under_sampling import NearMiss as NM\n",
    "from imblearn.under_sampling import NeighbourhoodCleaningRule as NCL\n",
    "from imblearn.under_sampling import OneSidedSelection as OSS\n",
    "from imblearn.under_sampling import RandomUnderSampler as RUS\n",
    "from imblearn.under_sampling import TomekLinks as TL\n",
    "# from rbo import RBO\n",
    "# from rbu import RBU\n",
    "from sklearn.naive_bayes import GaussianNB as NB\n",
    "from sklearn.neighbors import KNeighborsClassifier as KNN\n",
    "from sklearn.svm import SVC as SVM\n",
    "from sklearn.tree import DecisionTreeClassifier as CART\n"
   ]
  },
  {
   "cell_type": "code",
   "execution_count": 4,
   "metadata": {},
   "outputs": [],
   "source": [
    "from pandas import read_csv\n",
    "import pandas as pd\n",
    "import matplotlib.pyplot as plt\n",
    "from sklearn.model_selection import train_test_split"
   ]
  },
  {
   "cell_type": "code",
   "execution_count": 5,
   "metadata": {},
   "outputs": [],
   "source": [
    "import imblearn.metrics\n",
    "import sklearn.metrics\n",
    "\n",
    "from collections import Counter\n",
    "\n",
    "\n",
    "def metric_decorator(metric_function):\n",
    "    def metric_wrapper(ground_truth, predictions, minority_class=None):\n",
    "        if minority_class is None:\n",
    "            minority_class = Counter(ground_truth).most_common()[-1][0]\n",
    "\n",
    "        return metric_function(ground_truth, predictions, minority_class)\n",
    "\n",
    "    return metric_wrapper\n",
    "\n",
    "\n",
    "@metric_decorator\n",
    "def precision(ground_truth, predictions, minority_class=None):\n",
    "    return sklearn.metrics.precision_score(ground_truth, predictions, pos_label=minority_class)\n",
    "\n",
    "\n",
    "@metric_decorator\n",
    "def recall(ground_truth, predictions, minority_class=None):\n",
    "    return sklearn.metrics.recall_score(ground_truth, predictions, pos_label=minority_class)\n",
    "\n",
    "\n",
    "@metric_decorator\n",
    "def f_measure(ground_truth, predictions, minority_class=None):\n",
    "    return sklearn.metrics.f1_score(ground_truth, predictions, pos_label=minority_class)\n",
    "\n",
    "\n",
    "def g_mean(ground_truth, predictions):\n",
    "    return imblearn.metrics.geometric_mean_score(ground_truth, predictions)\n",
    "\n",
    "\n",
    "def auc(ground_truth, predictions):\n",
    "    return sklearn.metrics.roc_auc_score(ground_truth, predictions)"
   ]
  },
  {
   "cell_type": "code",
   "execution_count": 48,
   "metadata": {},
   "outputs": [],
   "source": [
    "import logging\n",
    "import numpy as np\n",
    "from itertools import product\n",
    "from sklearn.model_selection import StratifiedKFold\n",
    "\n",
    "\n",
    "class ResamplingCV:\n",
    "    def __init__(self, algorithm, classifier, metrics=(f_measure, g_mean, auc), n=3, **kwargs):\n",
    "        self.algorithm = algorithm\n",
    "        self.classifier = classifier\n",
    "        self.metrics = metrics\n",
    "        self.n = n\n",
    "        self.kwargs = kwargs\n",
    "\n",
    "    def fit_sample(self, X, y):\n",
    "        best_score = -np.inf\n",
    "        best_parameters = None\n",
    "\n",
    "        parameter_combinations = list((dict(zip(self.kwargs, x)) for x in product(*self.kwargs.values())))\n",
    "\n",
    "        if len(parameter_combinations) == 1:\n",
    "            return self.algorithm(**parameter_combinations[0]).fit_resample(X, y)\n",
    "\n",
    "        for parameters in parameter_combinations:\n",
    "            scores = []\n",
    "\n",
    "            for _ in range(self.n):\n",
    "                skf = StratifiedKFold(n_splits=2, shuffle=True)\n",
    "\n",
    "                for train_idx, test_idx in skf.split(X, y):\n",
    "                    try:\n",
    "                        X_train, y_train = self.algorithm(**parameters).fit_resample(X.iloc[train_idx], y.iloc[train_idx])\n",
    "                    except ValueError as e:\n",
    "                        logging.warning('ValueError \"%s\" occurred during CV resampling with %s. '\n",
    "                                        'Setting parameter score to -inf.' % (e, self.algorithm.__name__))\n",
    "\n",
    "                        scores.append(-np.inf)\n",
    "\n",
    "                        break\n",
    "                    else:\n",
    "                        if len(np.unique(y_train)) < 2:\n",
    "                            logging.warning('One of the classes was eliminated during CV resampling with %s. '\n",
    "                                            'Setting parameter score to -inf.' % self.algorithm.__name__)\n",
    "\n",
    "                            scores.append(-np.inf)\n",
    "\n",
    "                            break\n",
    "\n",
    "#                         classifier = self.classifier.fit(X_train, y_train)\n",
    "#                         predictions = classifier.predict(X[test_idx])\n",
    "\n",
    "#                         scores.append(np.mean([metric(y[test_idx], predictions) for metric in self.metrics]))\n",
    "\n",
    "#             score = np.mean(scores)\n",
    "\n",
    "#             if score > best_score:\n",
    "#                 best_score = score\n",
    "#                 best_parameters = parameters\n",
    "\n",
    "        return self.algorithm.fit_resample(X, y)"
   ]
  },
  {
   "cell_type": "code",
   "execution_count": 7,
   "metadata": {},
   "outputs": [
    {
     "name": "stderr",
     "output_type": "stream",
     "text": [
      "C:\\ProgramData\\Anaconda3\\lib\\site-packages\\sklearn\\utils\\validation.py:63: DataConversionWarning: A column-vector y was passed when a 1d array was expected. Please change the shape of y to (n_samples, ), for example using ravel().\n",
      "  return f(*args, **kwargs)\n"
     ]
    }
   ],
   "source": [
    "df=pd.read_csv('bs140513_032310.csv')\n",
    "from sklearn.preprocessing import LabelEncoder\n",
    "le = LabelEncoder()\n",
    "df.loc[:,['customer']]=le.fit_transform(df.loc[:,['customer']])\n",
    "df.loc[:,['age']]=le.fit_transform(df.loc[:,['age']])\n",
    "df.loc[:,['zipcodeOri']]=le.fit_transform(df.loc[:,['zipcodeOri']])\n",
    "df.loc[:,['zipMerchant']]=le.fit_transform(df.loc[:,['zipMerchant']])\n",
    "df.loc[:,['merchant']]=le.fit_transform(df.loc[:,['merchant']])\n",
    "df.loc[:,['category']]=le.fit_transform(df.loc[:,['category']])\n",
    "df.loc[:,['gender']]=le.fit_transform(df.loc[:,['gender']])"
   ]
  },
  {
   "cell_type": "code",
   "execution_count": 8,
   "metadata": {},
   "outputs": [],
   "source": [
    "train,test=train_test_split(df,random_state=42)"
   ]
  },
  {
   "cell_type": "code",
   "execution_count": 9,
   "metadata": {},
   "outputs": [],
   "source": [
    "x_train=train.drop('fraud',axis=1)\n",
    "y_train=train.fraud\n",
    "xtest=test.drop('fraud',axis=1)\n",
    "ytest=test.fraud"
   ]
  },
  {
   "cell_type": "code",
   "execution_count": 10,
   "metadata": {},
   "outputs": [],
   "source": [
    "n_minority = Counter(y_train).most_common()[1][1]\n",
    "n_majority = Counter(y_train).most_common()[0][1]"
   ]
  },
  {
   "cell_type": "code",
   "execution_count": 11,
   "metadata": {},
   "outputs": [
    {
     "data": {
      "text/plain": [
       "5450"
      ]
     },
     "execution_count": 11,
     "metadata": {},
     "output_type": "execute_result"
    }
   ],
   "source": [
    "n_minority"
   ]
  },
  {
   "cell_type": "code",
   "execution_count": 12,
   "metadata": {},
   "outputs": [
    {
     "data": {
      "text/plain": [
       "440532"
      ]
     },
     "execution_count": 12,
     "metadata": {},
     "output_type": "execute_result"
    }
   ],
   "source": [
    "n_majority"
   ]
  },
  {
   "cell_type": "code",
   "execution_count": 43,
   "metadata": {},
   "outputs": [],
   "source": [
    "imblearn_ratios = [((n_majority - n_minority) * ratio + n_minority) / n_majority for ratio in [0.5, 0.75, 1.0]]\n",
    "clf = {'NB': NB(),\n",
    "       'KNN': KNN(),\n",
    "       'SVM': SVM(gamma='scale'),\n",
    "       'CART': CART()}"
   ]
  },
  {
   "cell_type": "code",
   "execution_count": 36,
   "metadata": {},
   "outputs": [],
   "source": [
    "samtec=[ 'AKNN','CC','CNN','ENN','IHT','RENN','NM','NCL','OSS','RUS','TL']"
   ]
  },
  {
   "cell_type": "code",
   "execution_count": 28,
   "metadata": {},
   "outputs": [],
   "source": [
    "algorithms = {\n",
    "                'AKNN': ResamplingCV(\n",
    "                    AKNN, clf,\n",
    "                    n_neighbors=[1, 3, 5, 7]\n",
    "                ),\n",
    "                'Bord': ResamplingCV(\n",
    "                    SMOTE, clf,\n",
    "                    kind=['borderline1'],\n",
    "                    k_neighbors=[1, 3, 5, 7, 9],\n",
    "                    m_neighbors=[5, 10, 15],\n",
    "                    sampling_strategy=imblearn_ratios\n",
    "                ),\n",
    "                'CC': ResamplingCV(\n",
    "                    CC, clf,\n",
    "                    sampling_strategy=imblearn_ratios\n",
    "                ),\n",
    "                'CNN': ResamplingCV(\n",
    "                    CNN, clf,\n",
    "                    n_neighbors=[1, 3, 5, 7]\n",
    "                ),\n",
    "                'ENN': ResamplingCV(\n",
    "                    ENN, clf,\n",
    "                    n_neighbors=[1, 3, 5, 7]\n",
    "                ),\n",
    "                'IHT': ResamplingCV(\n",
    "                    IHT, clf,\n",
    "                    sampling_strategy=imblearn_ratios,\n",
    "                    cv=[2]\n",
    "                ),\n",
    "                'NCL': ResamplingCV(\n",
    "                    NCL, clf,\n",
    "                    n_neighbors=[1, 3, 5, 7]\n",
    "                ),\n",
    "                'NM': ResamplingCV(\n",
    "                    NM, clf,\n",
    "                    n_neighbors=[1, 3, 5, 7]\n",
    "                ),\n",
    "                'OSS': ResamplingCV(\n",
    "                    OSS, clf,\n",
    "                    n_neighbors=[1, 3, 5, 7]\n",
    "                ),\n",
    "                'RENN': ResamplingCV(\n",
    "                    RENN, clf,\n",
    "                    n_neighbors=[1, 3, 5, 7]\n",
    "                ),\n",
    "                'ROS': ResamplingCV(\n",
    "                    ROS, clf,\n",
    "                    sampling_strategy=imblearn_ratios\n",
    "                ),\n",
    "                'RUS': ResamplingCV(\n",
    "                    RUS, clf,\n",
    "                    sampling_strategy=imblearn_ratios\n",
    "                ),\n",
    "                'SMOTE': ResamplingCV(\n",
    "                    SMOTE, clf,\n",
    "                    k_neighbors=[1, 3, 5, 7, 9],\n",
    "                    sampling_strategy=imblearn_ratios\n",
    "                ),\n",
    "                'SMOTE+ENN': ResamplingCV(\n",
    "                    SMOTEENN, clf,\n",
    "                    smote=[SMOTE(k_neighbors=k) for k in [1, 3, 5, 7, 9]],\n",
    "                    sampling_strategy=imblearn_ratios\n",
    "                ),\n",
    "                'SMOTE+TL': ResamplingCV(\n",
    "                    SMOTETomek, clf,\n",
    "                    smote=[SMOTE(k_neighbors=k) for k in [1, 3, 5, 7, 9]],\n",
    "                    sampling_strategy=imblearn_ratios\n",
    "                ),\n",
    "                'TL': TL(),\n",
    "            }"
   ]
  },
  {
   "cell_type": "code",
   "execution_count": 29,
   "metadata": {},
   "outputs": [],
   "source": [
    "from sklearn.preprocessing import MinMaxScaler\n",
    "scaling = MinMaxScaler(feature_range=(-1,1))"
   ]
  },
  {
   "cell_type": "code",
   "execution_count": 53,
   "metadata": {},
   "outputs": [],
   "source": [
    " algorithm = algorithms.get('OSS')\n"
   ]
  },
  {
   "cell_type": "code",
   "execution_count": 46,
   "metadata": {},
   "outputs": [],
   "source": [
    "aknn=AKNN()"
   ]
  },
  {
   "cell_type": "code",
   "execution_count": 54,
   "metadata": {},
   "outputs": [],
   "source": [
    " X_train, Y_train = algorithm.fit_sample(pd.DataFrame(scaling.fit_transform(x_train)), pd.DataFrame(y_train))"
   ]
  },
  {
   "cell_type": "code",
   "execution_count": 61,
   "metadata": {},
   "outputs": [],
   "source": [
    "xt,yt,xtest,ytest=train_test_split( X_train, Y_train,random_state=42)"
   ]
  },
  {
   "cell_type": "code",
   "execution_count": 66,
   "metadata": {},
   "outputs": [
    {
     "data": {
      "text/plain": [
       "0    327495\n",
       "1      4081\n",
       "Name: fraud, dtype: int64"
      ]
     },
     "execution_count": 66,
     "metadata": {},
     "output_type": "execute_result"
    }
   ],
   "source": [
    "xtest['fraud'].value_counts()"
   ]
  },
  {
   "cell_type": "code",
   "execution_count": 59,
   "metadata": {},
   "outputs": [
    {
     "data": {
      "text/plain": [
       "594643"
      ]
     },
     "execution_count": 59,
     "metadata": {},
     "output_type": "execute_result"
    }
   ],
   "source": [
    "len(df)"
   ]
  },
  {
   "cell_type": "code",
   "execution_count": 44,
   "metadata": {},
   "outputs": [
    {
     "data": {
      "text/plain": [
       "KNeighborsClassifier()"
      ]
     },
     "execution_count": 44,
     "metadata": {},
     "output_type": "execute_result"
    }
   ],
   "source": [
    "clf['KNN']"
   ]
  },
  {
   "cell_type": "code",
   "execution_count": 60,
   "metadata": {},
   "outputs": [
    {
     "data": {
      "text/html": [
       "<div>\n",
       "<style scoped>\n",
       "    .dataframe tbody tr th:only-of-type {\n",
       "        vertical-align: middle;\n",
       "    }\n",
       "\n",
       "    .dataframe tbody tr th {\n",
       "        vertical-align: top;\n",
       "    }\n",
       "\n",
       "    .dataframe thead th {\n",
       "        text-align: right;\n",
       "    }\n",
       "</style>\n",
       "<table border=\"1\" class=\"dataframe\">\n",
       "  <thead>\n",
       "    <tr style=\"text-align: right;\">\n",
       "      <th></th>\n",
       "      <th>step</th>\n",
       "      <th>customer</th>\n",
       "      <th>age</th>\n",
       "      <th>gender</th>\n",
       "      <th>zipcodeOri</th>\n",
       "      <th>merchant</th>\n",
       "      <th>zipMerchant</th>\n",
       "      <th>category</th>\n",
       "      <th>amount</th>\n",
       "    </tr>\n",
       "  </thead>\n",
       "  <tbody>\n",
       "    <tr>\n",
       "      <th>458422</th>\n",
       "      <td>143</td>\n",
       "      <td>134</td>\n",
       "      <td>2</td>\n",
       "      <td>1</td>\n",
       "      <td>0</td>\n",
       "      <td>18</td>\n",
       "      <td>0</td>\n",
       "      <td>12</td>\n",
       "      <td>40.54</td>\n",
       "    </tr>\n",
       "    <tr>\n",
       "      <th>102312</th>\n",
       "      <td>37</td>\n",
       "      <td>1251</td>\n",
       "      <td>1</td>\n",
       "      <td>1</td>\n",
       "      <td>0</td>\n",
       "      <td>18</td>\n",
       "      <td>0</td>\n",
       "      <td>12</td>\n",
       "      <td>38.63</td>\n",
       "    </tr>\n",
       "    <tr>\n",
       "      <th>253447</th>\n",
       "      <td>84</td>\n",
       "      <td>3973</td>\n",
       "      <td>2</td>\n",
       "      <td>1</td>\n",
       "      <td>0</td>\n",
       "      <td>18</td>\n",
       "      <td>0</td>\n",
       "      <td>12</td>\n",
       "      <td>61.62</td>\n",
       "    </tr>\n",
       "    <tr>\n",
       "      <th>585032</th>\n",
       "      <td>177</td>\n",
       "      <td>1503</td>\n",
       "      <td>3</td>\n",
       "      <td>1</td>\n",
       "      <td>0</td>\n",
       "      <td>45</td>\n",
       "      <td>0</td>\n",
       "      <td>3</td>\n",
       "      <td>41.24</td>\n",
       "    </tr>\n",
       "    <tr>\n",
       "      <th>136214</th>\n",
       "      <td>48</td>\n",
       "      <td>4074</td>\n",
       "      <td>2</td>\n",
       "      <td>1</td>\n",
       "      <td>0</td>\n",
       "      <td>30</td>\n",
       "      <td>0</td>\n",
       "      <td>12</td>\n",
       "      <td>4.74</td>\n",
       "    </tr>\n",
       "    <tr>\n",
       "      <th>...</th>\n",
       "      <td>...</td>\n",
       "      <td>...</td>\n",
       "      <td>...</td>\n",
       "      <td>...</td>\n",
       "      <td>...</td>\n",
       "      <td>...</td>\n",
       "      <td>...</td>\n",
       "      <td>...</td>\n",
       "      <td>...</td>\n",
       "    </tr>\n",
       "    <tr>\n",
       "      <th>110268</th>\n",
       "      <td>40</td>\n",
       "      <td>1981</td>\n",
       "      <td>5</td>\n",
       "      <td>1</td>\n",
       "      <td>0</td>\n",
       "      <td>30</td>\n",
       "      <td>0</td>\n",
       "      <td>12</td>\n",
       "      <td>38.12</td>\n",
       "    </tr>\n",
       "    <tr>\n",
       "      <th>259178</th>\n",
       "      <td>86</td>\n",
       "      <td>747</td>\n",
       "      <td>2</td>\n",
       "      <td>1</td>\n",
       "      <td>0</td>\n",
       "      <td>30</td>\n",
       "      <td>0</td>\n",
       "      <td>12</td>\n",
       "      <td>38.63</td>\n",
       "    </tr>\n",
       "    <tr>\n",
       "      <th>365838</th>\n",
       "      <td>117</td>\n",
       "      <td>104</td>\n",
       "      <td>6</td>\n",
       "      <td>2</td>\n",
       "      <td>0</td>\n",
       "      <td>18</td>\n",
       "      <td>0</td>\n",
       "      <td>12</td>\n",
       "      <td>0.01</td>\n",
       "    </tr>\n",
       "    <tr>\n",
       "      <th>131932</th>\n",
       "      <td>47</td>\n",
       "      <td>291</td>\n",
       "      <td>3</td>\n",
       "      <td>2</td>\n",
       "      <td>0</td>\n",
       "      <td>30</td>\n",
       "      <td>0</td>\n",
       "      <td>12</td>\n",
       "      <td>20.37</td>\n",
       "    </tr>\n",
       "    <tr>\n",
       "      <th>121958</th>\n",
       "      <td>43</td>\n",
       "      <td>4099</td>\n",
       "      <td>5</td>\n",
       "      <td>2</td>\n",
       "      <td>0</td>\n",
       "      <td>30</td>\n",
       "      <td>0</td>\n",
       "      <td>12</td>\n",
       "      <td>26.74</td>\n",
       "    </tr>\n",
       "  </tbody>\n",
       "</table>\n",
       "<p>445982 rows × 9 columns</p>\n",
       "</div>"
      ],
      "text/plain": [
       "        step  customer  age  gender  zipcodeOri  merchant  zipMerchant  \\\n",
       "458422   143       134    2       1           0        18            0   \n",
       "102312    37      1251    1       1           0        18            0   \n",
       "253447    84      3973    2       1           0        18            0   \n",
       "585032   177      1503    3       1           0        45            0   \n",
       "136214    48      4074    2       1           0        30            0   \n",
       "...      ...       ...  ...     ...         ...       ...          ...   \n",
       "110268    40      1981    5       1           0        30            0   \n",
       "259178    86       747    2       1           0        30            0   \n",
       "365838   117       104    6       2           0        18            0   \n",
       "131932    47       291    3       2           0        30            0   \n",
       "121958    43      4099    5       2           0        30            0   \n",
       "\n",
       "        category  amount  \n",
       "458422        12   40.54  \n",
       "102312        12   38.63  \n",
       "253447        12   61.62  \n",
       "585032         3   41.24  \n",
       "136214        12    4.74  \n",
       "...          ...     ...  \n",
       "110268        12   38.12  \n",
       "259178        12   38.63  \n",
       "365838        12    0.01  \n",
       "131932        12   20.37  \n",
       "121958        12   26.74  \n",
       "\n",
       "[445982 rows x 9 columns]"
      ]
     },
     "execution_count": 60,
     "metadata": {},
     "output_type": "execute_result"
    }
   ],
   "source": []
  },
  {
   "cell_type": "code",
   "execution_count": null,
   "metadata": {},
   "outputs": [],
   "source": []
  },
  {
   "cell_type": "code",
   "execution_count": null,
   "metadata": {},
   "outputs": [],
   "source": []
  },
  {
   "cell_type": "code",
   "execution_count": null,
   "metadata": {},
   "outputs": [],
   "source": []
  },
  {
   "cell_type": "code",
   "execution_count": null,
   "metadata": {},
   "outputs": [],
   "source": []
  },
  {
   "cell_type": "code",
   "execution_count": null,
   "metadata": {},
   "outputs": [],
   "source": []
  },
  {
   "cell_type": "code",
   "execution_count": null,
   "metadata": {},
   "outputs": [],
   "source": []
  },
  {
   "cell_type": "code",
   "execution_count": null,
   "metadata": {},
   "outputs": [],
   "source": []
  },
  {
   "cell_type": "code",
   "execution_count": null,
   "metadata": {},
   "outputs": [],
   "source": []
  }
 ],
 "metadata": {
  "kernelspec": {
   "display_name": "Python 3",
   "language": "python",
   "name": "python3"
  },
  "language_info": {
   "codemirror_mode": {
    "name": "ipython",
    "version": 3
   },
   "file_extension": ".py",
   "mimetype": "text/x-python",
   "name": "python",
   "nbconvert_exporter": "python",
   "pygments_lexer": "ipython3",
   "version": "3.7.6"
  }
 },
 "nbformat": 4,
 "nbformat_minor": 4
}
